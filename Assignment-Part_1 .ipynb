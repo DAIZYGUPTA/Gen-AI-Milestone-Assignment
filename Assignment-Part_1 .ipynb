{
 "cells": [
  {
   "cell_type": "code",
   "execution_count": null,
   "id": "ea4ee64a-ccfb-41e6-b219-7e00bdf44d08",
   "metadata": {},
   "outputs": [],
   "source": [
    "\"\"\"\n",
    "MILESTONE ASSIGNMENT PART-1 \n",
    "\n",
    "\"\"\""
   ]
  },
  {
   "cell_type": "markdown",
   "id": "abbaeeb7-da40-4119-8641-0e32d66d353b",
   "metadata": {},
   "source": [
    "# What is the difference between static and dynamic variables in Python\n",
    "\n",
    "* static : also known as class variables, are defined within a class but outside of any instance methods. They are shared across all instances of the class.\n",
    "* dynamic : also known as instance variables, are defined within instance methods and belong to the specific instance of a class. Each instance has its own copy of these variables.\n",
    "\n"
   ]
  },
  {
   "cell_type": "markdown",
   "id": "bfa62b02-f733-4558-a62e-350ea7e17cd8",
   "metadata": {},
   "source": [
    "| **Aspect**          | **Static Variables**                         | **Dynamic Variables**                        |\n",
    "|---------------------|----------------------------------------------|---------------------------------------------|\n",
    "| **Scope and Sharing** | Shared among all instances of a class      | Unique to each instance of a class          |\n",
    "| **Initialization**  | Initialized once, typically at the class level | Initialized every time an instance is created, typically within the  __init__  method |\n",
    "| **Access**          | Can be accessed using the class name or through an instance | Can only be accessed through the specific instance |\n"
   ]
  },
  {
   "cell_type": "code",
   "execution_count": 3,
   "id": "ec0446fd-61df-4217-8458-5f540cf0ba43",
   "metadata": {},
   "outputs": [
    {
     "name": "stdout",
     "output_type": "stream",
     "text": [
      "Accessing static variable : 42\n",
      "Accessing static variable through instances :  42\n",
      "Accessing static variable through instances :  42\n",
      "Changing static variable :  100\n",
      "Changing static variable :  100\n"
     ]
    }
   ],
   "source": [
    "# EXAMPLE STATIC\n",
    "\n",
    "class static_class:\n",
    "    static_var = 42  # Static variable\n",
    "\n",
    "    def __init__(self, value):\n",
    "        self.instance_var = value  # Instance variable\n",
    "\n",
    "print(\"Accessing static variable :\" , static_class.static_var)  # Output: 42\n",
    "\n",
    "# Creating instances\n",
    "obj1 = static_class(1)\n",
    "obj2 = static_class(2)\n",
    "\n",
    "print(\"Accessing static variable through instances : \" , obj1.static_var)  # Output: 42\n",
    "print(\"Accessing static variable through instances : \" , obj2.static_var)  # Output: 42\n",
    "\n",
    "static_class.static_var = 100\n",
    "print(\"Changing static variable : \" , obj1.static_var)  # Output: 100\n",
    "print(\"Changing static variable : \" , obj2.static_var)  # Output: 100\n"
   ]
  },
  {
   "cell_type": "code",
   "execution_count": 5,
   "id": "fdd767c2-710a-4feb-a5b3-505a74439687",
   "metadata": {},
   "outputs": [
    {
     "name": "stdout",
     "output_type": "stream",
     "text": [
      "Accessing dynamic variables :  1\n",
      "Accessing dynamic variables :  2\n",
      "Changing dynamic variables :  10\n",
      "Changing dynamic variables :  2\n"
     ]
    }
   ],
   "source": [
    "# EXAMPLE DYNAMIC\n",
    "\n",
    "class DynamicClass:\n",
    "    def __init__(self, value):\n",
    "        self.instance_var = value  # Dynamic variable\n",
    "\n",
    "# Creating instances with different values\n",
    "obj1 = DynamicClass(1)\n",
    "obj2 = DynamicClass(2)\n",
    " \n",
    "print(\"Accessing dynamic variables : \" , obj1.instance_var)  # Output: 1\n",
    "print(\"Accessing dynamic variables : \" , obj2.instance_var)  # Output: 2\n",
    "\n",
    "obj1.instance_var = 10\n",
    "print(\"Changing dynamic variables : \" , obj1.instance_var)  # Output: 10\n",
    "print(\"Changing dynamic variables : \" , obj2.instance_var)  # Output: 2\n"
   ]
  },
  {
   "cell_type": "markdown",
   "id": "0f5bf041-7b45-4ee3-9781-40a76415a0ce",
   "metadata": {},
   "source": [
    "# Explain the purpose of \"pop\",\"popitem\",\"clear()\" in a dictionary with suitable examples.\n",
    "\n",
    "| **Method**    | **Purpose**                                                        | **Example**                                                      |\n",
    "|---------------|--------------------------------------------------------------------|------------------------------------------------------------------|\n",
    "| `pop(key)`    | Removes the specified key and returns the corresponding value.     | `my_dict.pop('b')`                                               |\n",
    "| `popitem()`   | Removes and returns an arbitrary (key, value) pair as a tuple.     | `my_dict.popitem()`                                              |\n",
    "| `clear()`     | Removes all items from the dictionary.                             | `my_dict.clear()`                                                |\n",
    "\n",
    "\n"
   ]
  },
  {
   "cell_type": "code",
   "execution_count": 7,
   "id": "e2854bd9-cb1e-47c2-a594-98956b335686",
   "metadata": {},
   "outputs": [
    {
     "name": "stdout",
     "output_type": "stream",
     "text": [
      "Original dictionary: {'a': 1, 'b': 2, 'c': 3}\n",
      "Value popped for key 'b': 2\n",
      "Dictionary after pop('b'): {'a': 1, 'c': 3}\n",
      "Value popped for key 'd' with default: Not Found\n",
      "Dictionary after pop('d', 'Not Found'): {'a': 1, 'c': 3}\n",
      "Arbitrary (key, value) pair removed using popitem(): ('c', 3)\n",
      "Dictionary after popitem(): {'a': 1}\n",
      "Dictionary before clear(): {'a': 1, 'f': 2, 'g': 4}\n",
      "Dictionary after clear(): {}\n"
     ]
    }
   ],
   "source": [
    "# EXAMPLE \n",
    "\n",
    "# Create a dictionary\n",
    "my_dict = {'a': 1, 'b': 2, 'c': 3}\n",
    "\n",
    "# Example for pop()\n",
    "print(\"Original dictionary:\", my_dict)\n",
    "value = my_dict.pop('b')\n",
    "print(\"Value popped for key 'b':\", value)\n",
    "print(\"Dictionary after pop('b'):\", my_dict)\n",
    "\n",
    "# Use pop with a default value\n",
    "value = my_dict.pop('d', 'Not Found')\n",
    "print(\"Value popped for key 'd' with default:\", value)\n",
    "print(\"Dictionary after pop('d', 'Not Found'):\", my_dict)\n",
    "\n",
    "# Example for popitem()\n",
    "item = my_dict.popitem()\n",
    "print(\"Arbitrary (key, value) pair removed using popitem():\", item)\n",
    "print(\"Dictionary after popitem():\", my_dict)\n",
    "\n",
    "# Re-add items to demonstrate clear()\n",
    "my_dict['f'] = 2\n",
    "my_dict['g'] = 4\n",
    "print(\"Dictionary before clear():\", my_dict)\n",
    "\n",
    "# Example for clear()\n",
    "my_dict.clear()\n",
    "print(\"Dictionary after clear():\", my_dict)\n"
   ]
  },
  {
   "cell_type": "markdown",
   "id": "a62d5f80-4d52-4c0d-a59e-fc8453a044ff",
   "metadata": {},
   "source": [
    "# What do you mean by FrozenSet? Explain it with suitable examples.\n",
    "\n",
    "* Immutable: Elements cannot be added or removed after creation.\n",
    "* Hashable: Can be used as a key in a dictionary or an element of another set.\n",
    "* Unordered: Like sets, frozensets do not maintain any order."
   ]
  },
  {
   "cell_type": "code",
   "execution_count": 11,
   "id": "864fa291-1f77-41d4-98bf-67c99279bc8c",
   "metadata": {},
   "outputs": [
    {
     "name": "stdout",
     "output_type": "stream",
     "text": [
      "frozenset: frozenset({1, 2, 3, 4})\n",
      "Error: 'frozenset' object has no attribute 'add'\n",
      "Dictionary with frozenset key: {frozenset({1, 2, 3, 4}): 'Immutable set'}\n",
      "Union of frozensets: frozenset({1, 2, 3, 4, 5, 6})\n"
     ]
    }
   ],
   "source": [
    "# EXAMPLE\n",
    "\n",
    "# Creating a frozenset from a list\n",
    "fset = frozenset([1, 2, 3, 4])\n",
    "print(\"frozenset:\", fset)\n",
    "\n",
    "# Trying to add an element (this will raise an AttributeError)\n",
    "try:\n",
    "    fset.add(5)\n",
    "except AttributeError as e:\n",
    "    print(\"Error:\", e)\n",
    "\n",
    "# Using frozenset in a dictionary\n",
    "my_dict = {fset: \"Immutable set\"}\n",
    "print(\"Dictionary with frozenset key:\", my_dict)\n",
    "\n",
    "# Performing a union operation with another frozenset\n",
    "fset2 = frozenset([3, 4, 5, 6])\n",
    "union = fset | fset2\n",
    "print(\"Union of frozensets:\", union)\n"
   ]
  },
  {
   "cell_type": "markdown",
   "id": "b544b09b-c691-46b0-aede-8f796036c8c1",
   "metadata": {},
   "source": [
    "# Differentiate between mutable and immutable data types in Python and give examples of mutable and immutable data types.\n",
    "\n",
    "| **Characteristic**   | **Mutable Data Types**              | **Immutable Data Types**            |\n",
    "|----------------------|-------------------------------------|-------------------------------------|\n",
    "| **Definition**       | Values can be changed in place after creation. | Values cannot be changed after creation. Any modification results in a new object. |\n",
    "| **Examples**         | List, Dictionary, Set               | String, Tuple, Frozenset            |\n",
    "| **Method of Change** | Can change elements in place        | Any change results in a new object  |\n"
   ]
  },
  {
   "cell_type": "code",
   "execution_count": 12,
   "id": "10996f05-6467-43b0-b0b0-b69360a543fd",
   "metadata": {},
   "outputs": [
    {
     "name": "stdout",
     "output_type": "stream",
     "text": [
      "Original list: [1, 2, 3]\n",
      "Modified list: [1, 2, 3, 4]\n",
      "Original dictionary: {'a': 1, 'b': 2}\n",
      "Modified dictionary: {'a': 1, 'b': 2, 'c': 3}\n",
      "Original set: {1, 2, 3}\n",
      "Modified set: {1, 2, 3, 4}\n",
      "Original string: hello\n",
      "New string: jello\n",
      "Original tuple: (1, 2, 3)\n",
      "Original frozenset: frozenset({1, 2, 3})\n"
     ]
    }
   ],
   "source": [
    "# EXAMPLE\n",
    "\n",
    "# Mutable Data Types\n",
    "\n",
    "# List\n",
    "my_list = [1, 2, 3]\n",
    "print(\"Original list:\", my_list)\n",
    "my_list.append(4)          # Modifies the list\n",
    "print(\"Modified list:\", my_list)\n",
    "\n",
    "# Dictionary\n",
    "my_dict = {'a': 1, 'b': 2}\n",
    "print(\"Original dictionary:\", my_dict)\n",
    "my_dict['c'] = 3           # Adds a new key-value pair\n",
    "print(\"Modified dictionary:\", my_dict)\n",
    "\n",
    "# Set\n",
    "my_set = {1, 2, 3}\n",
    "print(\"Original set:\", my_set)\n",
    "my_set.add(4)             # Adds a new element\n",
    "print(\"Modified set:\", my_set)\n",
    "\n",
    "# Immutable Data Types\n",
    "\n",
    "# String\n",
    "my_string = \"hello\"\n",
    "print(\"Original string:\", my_string)\n",
    "new_string = my_string.replace('h', 'j')  # Creates a new string\n",
    "print(\"New string:\", new_string)\n",
    "\n",
    "# Tuple\n",
    "my_tuple = (1, 2, 3)\n",
    "print(\"Original tuple:\", my_tuple)\n",
    "# Trying to modify a tuple will raise an error\n",
    "# Uncommenting the next line will raise a TypeError\n",
    "# my_tuple[0] = 4\n",
    "\n",
    "# Frozenset\n",
    "my_frozenset = frozenset([1, 2, 3])\n",
    "print(\"Original frozenset:\", my_frozenset)\n",
    "# Trying to add to a frozenset will raise an error\n",
    "# Uncommenting the next line will raise an AttributeError\n",
    "# my_frozenset.add(4)\n"
   ]
  },
  {
   "cell_type": "markdown",
   "id": "9f7e6c90-37ab-4bd3-acf7-ada76cd64d9b",
   "metadata": {},
   "source": [
    "# What is __init__?Explain with an example.\n",
    "\n",
    "* In Python, __init__ is a special method used for initializing newly created instances of a class.\n",
    "* It is called automatically when a new instance of the class is created, allowing to set up the initial state of the object."
   ]
  },
  {
   "cell_type": "code",
   "execution_count": 7,
   "id": "7682f0cb-8d5b-4bbb-985f-d1e498d34628",
   "metadata": {},
   "outputs": [
    {
     "name": "stdout",
     "output_type": "stream",
     "text": [
      "name :  Daizy\n",
      "age :  80\n",
      "Hello, my name is Daizy and I am 80 years old.\n"
     ]
    }
   ],
   "source": [
    "# EXAMPLE\n",
    "\n",
    "class Person:\n",
    "    def __init__(self, name, age):\n",
    "        self.name = name\n",
    "        self.age = age\n",
    "    \n",
    "    def greet(self):\n",
    "        return f\"Hello, my name is {self.name} and I am {self.age} years old.\"\n",
    "\n",
    "# Creating an instance of Person\n",
    "per1 = Person(\"Daizy\", 80)\n",
    "\n",
    "# Accessing attributes\n",
    "print(\"name : \" , per1.name)  # Output: Alice\n",
    "print(\"age : \" , per1.age)   # Output: 30\n",
    "\n",
    "# Calling a method\n",
    "print(per1.greet())  # Output: Hello, my name is Alice and I am 30 years old.\n"
   ]
  },
  {
   "cell_type": "markdown",
   "id": "6813d0a7-9fa8-40aa-bcfb-2be109565e59",
   "metadata": {},
   "source": [
    "# What is docstring in Python?Explain with an example\n",
    "\n",
    "* Documentation: Provides a clear and concise description of what the module, function, class, or method does.\n",
    "* Usage Information: Can include information on parameters, return values, exceptions, and examples.\n",
    "* Access through help(): Docstrings can be accessed using Python's built-in help() function for interactive documentation.\n",
    "* Syntax: Docstrings are written using triple quotes (\"\"\" or ''') to allow for multi-line text."
   ]
  },
  {
   "cell_type": "code",
   "execution_count": 1,
   "id": "9241e20a-7435-4f43-bdbf-b5f6365aea26",
   "metadata": {},
   "outputs": [
    {
     "name": "stdout",
     "output_type": "stream",
     "text": [
      "\n",
      "    Greet a person with their name.\n",
      "    Parameters:\n",
      "    name (str): The name of the person.\n",
      "    Returns:\n",
      "    str: A greeting message.\n",
      "    \n"
     ]
    }
   ],
   "source": [
    "# EXAMPLE\n",
    "def greet(name):\n",
    "    \"\"\"\n",
    "    Greet a person with their name.\n",
    "    Parameters:\n",
    "    name (str): The name of the person.\n",
    "    Returns:\n",
    "    str: A greeting message.\n",
    "    \"\"\"\n",
    "    return f\"Hello, {name}!\"\n",
    "\n",
    "# Accessing the docstring\n",
    "print(greet.__doc__)"
   ]
  },
  {
   "cell_type": "markdown",
   "id": "1010c908-a79e-4a4b-aec2-c3ca544c8ae7",
   "metadata": {},
   "source": [
    "# What are unit tests in Python\n",
    "\n",
    "* Isolated: Each unit test should test a single piece of functionality in isolation.\n",
    "* Automated: Unit tests are usually run automatically and can be part of an automated testing suite.\n",
    "* Repeatable: Unit tests should produce the same results every time they are run.\n",
    "\n",
    "#### EXAMPLE\n",
    "```python\n",
    "import unittest\n",
    "\n",
    "def add(a, b):\n",
    "    return a + b\n",
    "    \n",
    "def subtract(a, b):\n",
    "    return a - b\n",
    "\n",
    "class TestMathFunctions(unittest.TestCase):\n",
    "    def test_add(self):\n",
    "        self.assertEqual(add(1, 2), 3)\n",
    "        self.assertEqual(add(-1, 1), 0)\n",
    "        self.assertEqual(add(-1, -1), -2)\n",
    "\n",
    "    def test_subtract(self):\n",
    "        self.assertEqual(subtract(2, 1), 1)\n",
    "        self.assertEqual(subtract(2, 2), 0)\n",
    "        self.assertEqual(subtract(2, 3), -1)\n",
    "\n",
    "if __name__ == '__main__':\n",
    "    unittest.main()\n"
   ]
  },
  {
   "cell_type": "markdown",
   "id": "25b450c1-2c55-4ab5-b366-b01f05906049",
   "metadata": {},
   "source": [
    "# What is break, continue and pass in Python\n",
    "\n",
    "| **Characteristic**    | **break**                                      | **continue**                                     | **pass**                                        |\n",
    "|-----------------------|------------------------------------------------|-------------------------------------------------|------------------------------------------------|\n",
    "| **Purpose**| Exit the loop prematurely                      | Skip the rest of the code inside the loop for the current iteration | Do nothing, act as a placeholder                 |\n",
    "| **Example**           | `for i in range(10):`<br>`if i == 5:`<br>`break`<br>`print(i)` | `for i in range(10):`<br>`if i == 5:`<br>`continue`<br>`print(i)` | `for i in range(10):`<br>`if i % 2 == 0:`<br>`pass`<br>`else:`<br>`print(i)` |\n",
    "| **Example Explanation**| The loop stops when `i` equals 5, exiting the loop. | The number 5 is skipped, and the loop continues with the next iteration. | The `pass` statement does nothing when `i` is even, only odd numbers are printed. |\n"
   ]
  },
  {
   "cell_type": "markdown",
   "id": "5d902b2d-9a48-4783-ac6c-06fcb32d5bfc",
   "metadata": {},
   "source": [
    "# What is the use of self in Python\n",
    "\n",
    "* Instance Reference: self refers to the instance of the class.\n",
    "* Access Attributes: It is used to access and modify the instance attributes.\n",
    "* Call Methods: Allows calling other methods within the same class.\n",
    "* Consistency: Although it can be named differently, using self is a widely accepted convention."
   ]
  },
  {
   "cell_type": "code",
   "execution_count": 6,
   "id": "8f1b1353-4959-4f9a-9aec-b57ad1a43195",
   "metadata": {},
   "outputs": [
    {
     "name": "stdout",
     "output_type": "stream",
     "text": [
      "DAIZY\n",
      "Hello, my name is DAIZY and I am 99 years old.\n"
     ]
    }
   ],
   "source": [
    "# EXAMPLE\n",
    "\n",
    "class Person:\n",
    "    def __init__(self, name, age):\n",
    "        self.name = name  # Use self to refer to instance attribute\n",
    "        self.age = age\n",
    "\n",
    "    def greet(self):\n",
    "        return f\"Hello, my name is {self.name} and I am {self.age} years old.\"\n",
    "\n",
    "# Creating an instance of Person\n",
    "p1 = Person(\"DAIZY\", 99)\n",
    "\n",
    "# Accessing attributes and methods\n",
    "print(p1.name)       \n",
    "print(p1.greet())    \n"
   ]
  },
  {
   "cell_type": "markdown",
   "id": "726cdc8d-451a-49a1-9e67-5284528401ef",
   "metadata": {},
   "source": [
    "# What are global, protected and private attributes in Python\n",
    "\n",
    "| **Attribute Type** | **Prefix** | **Access Level**                          | **Example**                                              |\n",
    "|--------------------|------------|-------------------------------------------|----------------------------------------------------------|\n",
    "| Global             | None       | Accessible from anywhere                  | `global_var = \"I am global\"`                             |\n",
    "| Protected          | `_`        | Accessible within the class and subclasses| `self._protected_attr = \"I am protected\"`                |\n",
    "| Private            | `__`       | Accessible only within the class (name mangling) | `self.__private_attr = \"I am private\"`             |\n"
   ]
  },
  {
   "cell_type": "code",
   "execution_count": 8,
   "id": "c2ca3f34-f54f-4c91-881a-44acefc4af7d",
   "metadata": {},
   "outputs": [
    {
     "name": "stdout",
     "output_type": "stream",
     "text": [
      "Global attribute: I am a global variable\n",
      "Protected attribute from subclass: I am a protected attribute\n",
      "Private attribute using class method: ('I am a global variable', 'I am a protected attribute', 'I am a private attribute')\n",
      "Private attribute using name mangling: I am a private attribute\n"
     ]
    }
   ],
   "source": [
    "# EXAMPLE\n",
    "\n",
    "global_var = \"I am a global variable\"\n",
    "\n",
    "class MyClass:\n",
    "    def __init__(self):\n",
    "        self._protected_attr = \"I am a protected attribute\"\n",
    "        self.__private_attr = \"I am a private attribute\"\n",
    "    \n",
    "    def show_attributes(self):\n",
    "        return (global_var, self._protected_attr, self.__private_attr)\n",
    "\n",
    "class SubClass(MyClass):\n",
    "    def show_protected(self):\n",
    "        return self._protected_attr\n",
    "\n",
    "obj = MyClass()\n",
    "sub_obj = SubClass()\n",
    "\n",
    "# Accessing global attribute\n",
    "print(\"Global attribute:\", global_var) \n",
    "\n",
    "# Accessing protected attribute\n",
    "print(\"Protected attribute from subclass:\", sub_obj.show_protected()) \n",
    "\n",
    "# Accessing private attribute using class method\n",
    "print(\"Private attribute using class method:\", obj.show_attributes())  \n",
    "\n",
    "# Attempt to access private attribute directly will fail\n",
    "# print(obj.__private_attr)  # AttributeError\n",
    "\n",
    "# Accessing private attribute using name mangling\n",
    "print(\"Private attribute using name mangling:\", obj._MyClass__private_attr) \n"
   ]
  },
  {
   "cell_type": "markdown",
   "id": "30e0783c-547b-4da9-9d90-52328c0a943f",
   "metadata": {},
   "source": [
    "# What are modules and packages in Python\n",
    "## Modules: \n",
    "* Think of modules as single files where we define reusable code. When we have a set of related functions and classes, we put them in a module so we can use them elsewhere in our code.\n",
    "* Files containing Python code with definitions of functions, classes, and variables.\n",
    "* Each module is a .py file.\n",
    "* Can be imported into other modules or scripts using the import statement.\n",
    "* Example: math.py with functions like sqrt().\n",
    "\n",
    "## Packages: \n",
    "* Packages are a way to organize multiple modules into a directory structure. They help manage a large number of modules, allowing you to group them logically. The __init__.py file is necessary for Python to recognize the directory as a package and can also initialize the package when imported.\n",
    "* Collections of modules organized in directories.\n",
    "* A package directory contains a special __init__.py file, which can be empty or execute initialization code for the package.\n",
    "* Packages allow for hierarchical organization of modules.\n",
    "* Example: numpy, which contains modules for various mathematical functions and operations.\n"
   ]
  },
  {
   "cell_type": "markdown",
   "id": "38787acd-78d3-4171-892c-35fa449c9d5f",
   "metadata": {},
   "source": [
    "# What are lists and tuples? What is the key difference between the two?\n",
    "\n",
    "| **Feature**       | **Lists**                                | **Tuples**                            |\n",
    "|-------------------|------------------------------------------|---------------------------------------|\n",
    "| **Mutability**    | Mutable (can be modified)                | Immutable (cannot be modified)        |\n",
    "| **Syntax**        | Defined with square brackets `[ ]`       | Defined with parentheses `( )`        |\n",
    "| **Use Case**      | Suitable for collections that may change | Suitable for fixed collections         |\n",
    "| **Example**       | `my_list = [1, 2, 3, 'daizy']`           | `my_tuple = (1, 2, 3, 'daizy')`       |\n"
   ]
  },
  {
   "cell_type": "code",
   "execution_count": 1,
   "id": "2c23ec89-11d8-42e8-a793-003164c704b6",
   "metadata": {},
   "outputs": [
    {
     "name": "stdout",
     "output_type": "stream",
     "text": [
      "Original List: [1, 2, 3, 'daizy']\n",
      "Modified List: [1, 20, 3, 'daizy']\n",
      "List after appending: [1, 20, 3, 'daizy', 'gupta']\n",
      "\n",
      "Original Tuple: (1, 2, 3, 'dg')\n",
      "Error modifying Tuple: 'tuple' object does not support item assignment\n",
      "Error appending to Tuple: 'tuple' object has no attribute 'append'\n"
     ]
    }
   ],
   "source": [
    "# EXAMPLE\n",
    "my_list = [1, 2, 3, 'daizy']\n",
    "print(\"Original List:\", my_list)\n",
    "\n",
    "# Modify element\n",
    "my_list[1] = 20\n",
    "print(\"Modified List:\", my_list)\n",
    "\n",
    "# Add element\n",
    "my_list.append('gupta')\n",
    "print(\"List after appending:\", my_list)\n",
    "\n",
    "# Tuple Example\n",
    "my_tuple = (1, 2, 3, 'dg')\n",
    "print(\"\\nOriginal Tuple:\", my_tuple)\n",
    "\n",
    "# Attempt to modify element (will raise an error)\n",
    "try:\n",
    "    my_tuple[1] = 20\n",
    "except TypeError as e:\n",
    "    print(\"Error modifying Tuple:\", e)\n",
    "\n",
    "# Attempt to add element (will raise an error)\n",
    "try:\n",
    "    my_tuple.append('hi')\n",
    "except AttributeError as e:\n",
    "    print(\"Error appending to Tuple:\", e)\n"
   ]
  },
  {
   "cell_type": "markdown",
   "id": "3dab248a-8eb1-4ff4-8a40-a9faac6830b1",
   "metadata": {},
   "source": [
    "# What is an Interpreted language & dynamically typed language?Write 5 differences between them"
   ]
  },
  {
   "cell_type": "markdown",
   "id": "c4d0d6a5-930b-4e9c-a808-79f5ca8e18fd",
   "metadata": {},
   "source": [
    "| **Feature**                | **Interpreted Language**                                      | **Dynamically Typed Language**                                |\n",
    "|----------------------------|----------------------------------------------------------------|---------------------------------------------------------------|\n",
    "| **Execution Method**       | Executed line by line or statement by statement by an interpreter. | Types are checked and resolved at runtime.                   |\n",
    "| **Compilation**            | No pre-compilation; code is executed directly.                 | No compile-time type checking; types are resolved during execution. |\n",
    "| **Performance**            | Generally slower execution compared to compiled languages.    | Type flexibility can affect performance due to runtime type checking. |\n",
    "| **Error Detection**        | Errors are detected during runtime.                            | Type-related errors are detected at runtime, potentially leading to errors during execution. |\n",
    "| **Flexibility**            | Offers ease of debugging and platform independence.            | Provides flexibility in code writing by allowing type changes at runtime. |\n"
   ]
  },
  {
   "cell_type": "code",
   "execution_count": 2,
   "id": "f8181db1-aca5-4fba-9fd8-8edcc698455e",
   "metadata": {},
   "outputs": [
    {
     "name": "stdout",
     "output_type": "stream",
     "text": [
      "This code is executed line by line.\n",
      "Hello, Daizy!\n",
      "Hello, 42!\n"
     ]
    }
   ],
   "source": [
    "# EXAMPLE\n",
    "# Interpreted Language Example\n",
    "print(\"This code is executed line by line.\")\n",
    "\n",
    "# Dynamically Typed Language Example\n",
    "def greet(name):\n",
    "    print(f\"Hello, {name}!\")\n",
    "\n",
    "greet(\"Daizy\")  # Works fine\n",
    "greet(42)       # Also works, despite expecting a string\n"
   ]
  },
  {
   "cell_type": "markdown",
   "id": "b760c87f-1a0f-4883-9091-b6e1a765866b",
   "metadata": {},
   "source": [
    "# What are Dict and List comprehensions\n",
    "\n",
    "| **Feature**                | **List Comprehensions**                                     | **Dictionary Comprehensions**                                |\n",
    "|----------------------------|--------------------------------------------------------------|--------------------------------------------------------------|\n",
    "| **Definition**             | Creates lists in a concise way                               | Creates dictionaries in a concise way                        |\n",
    "| **Syntax**                 | `[expression for item in iterable if condition]`            | `{key_expression: value_expression for item in iterable if condition}` |\n",
    "| **Usage**                  | For generating and transforming lists                        | For generating and transforming dictionaries                 |\n",
    "| **Example**                | `[x**2 for x in range(10)]`                                  | `{x: x**2 for x in range(10)}`                              |\n",
    "| **Filtering**              | Can include conditions to filter items                       | Can include conditions to filter items and create key-value pairs |\n"
   ]
  },
  {
   "cell_type": "code",
   "execution_count": 14,
   "id": "c4ecab90-0f18-4777-b8bf-310e15ac29da",
   "metadata": {},
   "outputs": [
    {
     "name": "stdout",
     "output_type": "stream",
     "text": [
      "list of squares of numbers from 0 to 9 :  [0, 1, 4, 9, 16, 25, 36, 49, 64, 81]\n",
      "list of even numbers from 0 to 9 :  [0, 2, 4, 6, 8]\n"
     ]
    }
   ],
   "source": [
    "# EXAMPLE\n",
    " \n",
    "squares = [x**2 for x in range(10)]\n",
    "print(\"list of squares of numbers from 0 to 9 : \" , squares)\n",
    " \n",
    "evens = [x for x in range(10) if x % 2 == 0]\n",
    "print(\"list of even numbers from 0 to 9 : \" , evens)\n"
   ]
  },
  {
   "cell_type": "code",
   "execution_count": 15,
   "id": "28946fe4-522b-4f1a-b6ce-d5fa8d0ac277",
   "metadata": {},
   "outputs": [
    {
     "name": "stdout",
     "output_type": "stream",
     "text": [
      "{0: 0, 1: 1, 2: 4, 3: 9, 4: 16, 5: 25, 6: 36, 7: 49, 8: 64, 9: 81}\n",
      "{0: 0, 2: 4, 4: 16, 6: 36, 8: 64}\n"
     ]
    }
   ],
   "source": [
    "# Create a dictionary where the keys are numbers and the values are their squares\n",
    "squares_dict = {x: x**2 for x in range(10)}\n",
    "print(squares_dict)  \n",
    "\n",
    "# Create a dictionary of even numbers and their squares\n",
    "evens_dict = {x: x**2 for x in range(10) if x % 2 == 0}\n",
    "print(evens_dict) \n"
   ]
  },
  {
   "cell_type": "markdown",
   "id": "6eb6d6a2-795d-4ed9-92e6-11abf54ef066",
   "metadata": {},
   "source": [
    "# What are decorators in Python? Explain it with an example.Write down its use cases\n",
    "\n",
    "* Decorators are a design pattern in Python that allow you to modify or extend the behavior of functions or methods without changing their code.\n",
    "* They are implemented as functions (or classes) that wrap another function (or method) and enhance or alter its functionality.\n",
    "\n",
    "* Function Decorator: A decorator is a function that takes another function as an argument, adds some kind of functionality, and returns a new function.\n",
    "* Syntax: Decorators are applied using the @decorator_name syntax above the function definition.\n",
    "\n",
    "| **Use Case**          | **Description**                                              |\n",
    "|-----------------------|--------------------------------------------------------------|\n",
    "| **Logging**           | Track function calls, execution time, or debug information. |\n",
    "| **Authorization**     | Check permissions before allowing access to a function.      |\n",
    "| **Caching**           | Store results of expensive function calls for performance.   |\n",
    "| **Validation**        | Validate input parameters before executing a function.       |\n",
    "| **Modification of Output** | Alter or format the output of functions.                   |\n"
   ]
  },
  {
   "cell_type": "code",
   "execution_count": 16,
   "id": "8d53146c-4690-4472-a94a-f1c898f69552",
   "metadata": {},
   "outputs": [
    {
     "name": "stdout",
     "output_type": "stream",
     "text": [
      "Execution time: 2.0020639896392822 seconds\n",
      "Function completed\n"
     ]
    }
   ],
   "source": [
    "# EXAMPLE\n",
    "\n",
    "import time\n",
    "\n",
    "# Decorator function\n",
    "def timer_decorator(func):\n",
    "    def wrapper(*args, **kwargs):\n",
    "        start_time = time.time()\n",
    "        result = func(*args, **kwargs)\n",
    "        end_time = time.time()\n",
    "        print(f\"Execution time: {end_time - start_time} seconds\")\n",
    "        return result\n",
    "    return wrapper\n",
    "\n",
    "# Applying the decorator\n",
    "@timer_decorator\n",
    "def slow_function(seconds):\n",
    "    time.sleep(seconds)\n",
    "    return \"Function completed\"\n",
    "\n",
    "# Calling the decorated function\n",
    "print(slow_function(2))  # Output: Execution time: 2.xxxx seconds \\n Function completed\n"
   ]
  },
  {
   "cell_type": "markdown",
   "id": "8f37b9bc-8962-4f72-a5ca-4daf438f4054",
   "metadata": {},
   "source": [
    "# How is memory managed in Python\n",
    "\n",
    "| **Memory Management Aspect** | **Description**                                             |\n",
    "|------------------------------|-------------------------------------------------------------|\n",
    "| **Automatic Memory Management** | Uses garbage collection and reference counting.         |\n",
    "| **Reference Counting**       | Tracks the number of references to each object; memory is freed when count drops to zero. |\n",
    "| **Garbage Collection**       | Detects and collects objects involved in reference cycles; uses a generational approach. |\n",
    "| **Memory Pools**             | Allocates small objects from pre-allocated memory pools; larger objects from central pools. |\n",
    "| **Data Structures**          | Lists and dictionaries resize dynamically; strings and tuples are immutable. |\n",
    "\n",
    "```python\n",
    "import gc\n",
    "\n",
    "# Create a cyclic reference\n",
    "class Node:\n",
    "    def __init__(self):\n",
    "        self.ref = None\n",
    "\n",
    "a = Node()\n",
    "b = Node()\n",
    "a.ref = b\n",
    "b.ref = a\n",
    "\n",
    "# Force garbage collection\n",
    "gc.collect()\n",
    "\n",
    "# Check memory status\n",
    "print(gc.get_stats())\n"
   ]
  },
  {
   "cell_type": "markdown",
   "id": "ed357ace-e45e-432b-aa37-f445776c832e",
   "metadata": {},
   "source": [
    "# What is lambda in Python? Why is it used\n",
    "\n",
    "| **Aspect**             | **Description**                                            |\n",
    "|------------------------|------------------------------------------------------------|\n",
    "| **Definition**         | An anonymous function defined using the `lambda` keyword. |\n",
    "| **Syntax**             | `lambda arguments: expression`                             |\n",
    "| **Usage**              | For small, throwaway functions, or as arguments to higher-order functions. |\n",
    "| **Example**            | `lambda x, y: x + y` for adding two numbers.               |\n",
    "| **Common Functions**   | Used with `map()`, `filter()`, and `sorted()`.             |\n",
    "\n",
    "\n",
    "## Why Lambda is Used\n",
    "* Conciseness: Allows the creation of small functions in a single line of code, making the code more readable and concise.\n",
    "* Anonymous Functions: Useful when you need a quick, temporary function without the need to name it.\n",
    "* Functional Programming: Facilitates the use of functional programming techniques by providing a way to pass functions as arguments."
   ]
  },
  {
   "cell_type": "code",
   "execution_count": 18,
   "id": "c08c572f-5a29-452c-b692-2575d542acd1",
   "metadata": {},
   "outputs": [
    {
     "name": "stdout",
     "output_type": "stream",
     "text": [
      "[(1, 'one'), (3, 'three'), (2, 'two')]\n"
     ]
    }
   ],
   "source": [
    "# EXAMPLE\n",
    "\n",
    "data = [(1, 'one'), (3, 'three'), (2, 'two')]\n",
    "\n",
    "# Sorting by the second item in each tuple\n",
    "sorted_data = sorted(data, key=lambda x: x[1])\n",
    "print(sorted_data) #  tuples are ordered by the string values 'one', 'three', and 'two'."
   ]
  },
  {
   "cell_type": "markdown",
   "id": "e38a41b8-baf0-489d-b514-2978d726f04b",
   "metadata": {},
   "source": [
    "# Explain split() and join() functions in Python\n",
    "\n",
    "## split()\n",
    "* Purpose: The split() method divides a string into a list of substrings based on a specified delimiter.\n",
    "* Syntax: string.split([separator[, maxsplit]])\n",
    "* separator: Optional. The delimiter string on which to split. By default, any whitespace (space, newline, etc.) is used.\n",
    "* maxsplit: Optional. The maximum number of splits to perform. The default value is -1, which means \"all occurrences.\"\n",
    "## join()\n",
    "* Purpose: The join() method concatenates the elements of an iterable (e.g., list, tuple) into a single string, with a specified separator between each element.\n",
    "* Syntax: separator.join(iterable)\n",
    "* separator: The string to insert between each element of the iterable.\n",
    "* iterable: An iterable (such as a list or tuple) containing strings to be joined.\n",
    "\n"
   ]
  },
  {
   "cell_type": "code",
   "execution_count": 19,
   "id": "70095611-deb8-416a-85ca-c62e633dff7d",
   "metadata": {},
   "outputs": [
    {
     "name": "stdout",
     "output_type": "stream",
     "text": [
      "['apple', 'orange', 'banana']\n",
      "apple orange banana\n"
     ]
    }
   ],
   "source": [
    "# EXAMPLE\n",
    "\n",
    "text = \"apple orange banana\"\n",
    "result = text.split()\n",
    "print(result)  \n",
    "\n",
    "words = ['apple', 'orange', 'banana']\n",
    "result = ' '.join(words)\n",
    "print(result) \n"
   ]
  },
  {
   "cell_type": "markdown",
   "id": "dac16a71-f47f-42cd-b92e-a6b74cf61053",
   "metadata": {},
   "source": [
    "# What are iterators , iterable & generators in Python\n",
    "\n",
    "#### 1. Iterables\n",
    "* An iterable is any Python object capable of returning its members one at a time. Examples include lists, tuples, strings, and dictionaries.\n",
    "* An object is considered iterable if it implements the __iter__() method or has an __getitem__() method that takes sequential indexes starting from 0.\n",
    "``` Python\n",
    "my_list = [1, 2, 3]  # my_list is an iterable.\n",
    "for item in my_list:\n",
    "    print(item)\n",
    "```\n",
    "\n",
    "#### 2. Iterators\n",
    "* An iterator is an object that represents a stream of data.\n",
    "* It returns one element at a time when the __next__() method is called.\n",
    "* Iterators must implement two methods: __iter__() and __next__().\n",
    "``` python\n",
    "my_list = [1, 2, 3]\n",
    "#  'it' is an iterator obtained from the iterable my_list.\n",
    "it = iter(my_list)  # Get an iterator from the iterable\n",
    "print(next(it))  # Output: 1\n",
    "print(next(it))  # Output: 2\n",
    "print(next(it))  # Output: 3\n",
    "# print(next(it))  # Raises StopIteration\n",
    "```\n",
    "\n",
    "#### 3. Generators\n",
    "* A generator is a special type of iterator that is defined using a function and the yield statement.\n",
    "* Generators provide a convenient way to implement the iterator protocol.\n",
    "* When a generator function is called, it returns a generator object that can be iterated over.\n",
    "```python\n",
    "def my_generator():\n",
    "    yield 1\n",
    "    yield 2\n",
    "    yield 3\n",
    "\n",
    "gen = my_generator()  # gen is a generator object created from the my_generator function.\n",
    "print(next(gen))  # Output: 1\n",
    "print(next(gen))  # Output: 2\n",
    "print(next(gen))  # Output: 3\n",
    "# print(next(gen))  # Raises StopIteration\n",
    "```"
   ]
  },
  {
   "cell_type": "markdown",
   "id": "8e254cdd-27b0-415f-b13b-9f1bff8cee89",
   "metadata": {},
   "source": [
    "# What is the difference between xrange and range in Python\n",
    "\n",
    "###### Python 2:\n",
    "* range creates a list in memory.\n",
    "* xrange creates an object that generates numbers on the fly.\n",
    "###### Python 3:\n",
    "* range creates an object that generates numbers on the fly (like xrange in Python 2).\n",
    "* It is memory efficient and does not generate the entire list in memory.\n",
    "```python\n",
    "r = range(1, 10, 2)\n",
    "print(r)  # Output: range(1, 10, 2)\n",
    "for num in r:\n",
    "    print(num)  # Output: 1 3 5 7 9\n",
    "```"
   ]
  },
  {
   "cell_type": "markdown",
   "id": "46c9a443-313b-48e9-86ab-24c6fcbf6db2",
   "metadata": {},
   "source": [
    "# Pillars of Oops\n",
    "\n",
    "* Encapsulation: Protects object integrity by restricting access to its components.\n",
    "* Inheritance: Promotes code reuse by allowing new classes to inherit from existing ones.\n",
    "* Polymorphism: Enables treating objects of different classes through a common interface.\n",
    "* Abstraction: Simplifies complexity by exposing only the necessary features and hiding the implementation details."
   ]
  },
  {
   "cell_type": "markdown",
   "id": "7cd7ad5e-ef5d-4c31-8991-74d86789ba4b",
   "metadata": {},
   "source": [
    "# How will you check if a class is a cild of anoter class?\n",
    "\n",
    "* Use issubclass(ChildClass, ParentClass) to check if ChildClass is a subclass of ParentClass.\n",
    "* Use isinstance(object, Class) to check if an object is an instance of a class or its subclass.\n",
    "```python\n",
    "class Parent:\n",
    "    pass\n",
    "\n",
    "class Child(Parent):\n",
    "    pass\n",
    "\n",
    "# Check if Child is a subclass of Parent\n",
    "print(issubclass(Child, Parent))  # Output: True\n",
    "\n",
    "# Check if Parent is a subclass of Child\n",
    "print(issubclass(Parent, Child))  # Output: False\n",
    "```"
   ]
  },
  {
   "cell_type": "markdown",
   "id": "ca396666-a066-40aa-8692-087a21881601",
   "metadata": {},
   "source": [
    "# How does inheritance work in Pyton? Explain all types of inheritance with an example\n",
    "\n",
    "###### Inheritance in Python allows one class (the child class) to inherit attributes and methods from another class (the parent class).This promotes code reuse and can simplify the creation of new classes.\n",
    "\n",
    "* Single Inheritance: A class inherits from one parent class.\n",
    "```python\n",
    "class Parent:\n",
    "    def __init__(self, name):\n",
    "        self.name = name\n",
    "    \n",
    "    def greet(self):\n",
    "        return f\"Hello, I am {self.name}\"\n",
    "\n",
    "class Child(Parent):\n",
    "    def __init__(self, name, age):\n",
    "        super().__init__(name)\n",
    "        self.age = age\n",
    "\n",
    "    def display(self):\n",
    "        return f\"{self.greet()} and I am {self.age} years old\"\n",
    "\n",
    "child = Child(\"Daizy\", 20)\n",
    "print(child.display())  # Output: Hello, I am Daizy and I am 20 years old\n",
    "```\n",
    "\n",
    "* Multiple Inheritance: A class inherits from more than one parent class.\n",
    "```python\n",
    "class Parent1:\n",
    "    def method1(self):\n",
    "        return \"Method from Parent1\"\n",
    "\n",
    "class Parent2:\n",
    "    def method2(self):\n",
    "        return \"Method from Parent2\"\n",
    "\n",
    "class Child(Parent1, Parent2):\n",
    "    pass\n",
    "\n",
    "child = Child()\n",
    "print(child.method1())  # Output: Method from Parent1\n",
    "print(child.method2())  # Output: Method from Parent2\n",
    "```\n",
    "* Multilevel Inheritance: A class is derived from another class, which is also derived from another class.\n",
    "```python\n",
    "class Grandparent:\n",
    "    def method1(self):\n",
    "        return \"Method from Grandparent\"\n",
    "\n",
    "class Parent(Grandparent):\n",
    "    def method2(self):\n",
    "        return \"Method from Parent\"\n",
    "\n",
    "class Child(Parent):\n",
    "    def method3(self):\n",
    "        return \"Method from Child\"\n",
    "\n",
    "child = Child()\n",
    "print(child.method1())  # Output: Method from Grandparent\n",
    "print(child.method2())  # Output: Method from Parent\n",
    "print(child.method3())  # Output: Method from Child\n",
    "```\n",
    "* Hierarchical Inheritance: More than one class inherits from a single parent class.\n",
    "```python\n",
    "class Parent:\n",
    "    def method(self):\n",
    "        return \"Method from Parent\"\n",
    "\n",
    "class Child1(Parent):\n",
    "    def child1_method(self):\n",
    "        return \"Method from Child1\"\n",
    "\n",
    "class Child2(Parent):\n",
    "    def child2_method(self):\n",
    "        return \"Method from Child2\"\n",
    "\n",
    "child1 = Child1()\n",
    "child2 = Child2()\n",
    "print(child1.method())  # Output: Method from Parent\n",
    "print(child2.method())  # Output: Method from Parent\n",
    "print(child1.child1_method())  # Output: Method from Child1\n",
    "print(child2.child2_method())  # Output: Method from Child2\n",
    "```\n",
    "* Hybrid Inheritance: A combination of two or more types of inheritance.\n",
    "```python\n",
    "class Base:\n",
    "    def base_method(self):\n",
    "        return \"Method from Base\"\n",
    "\n",
    "class Parent1(Base):\n",
    "    def parent1_method(self):\n",
    "        return \"Method from Parent1\"\n",
    "\n",
    "class Parent2(Base):\n",
    "    def parent2_method(self):\n",
    "        return \"Method from Parent2\"\n",
    "\n",
    "class Child(Parent1, Parent2):\n",
    "    def child_method(self):\n",
    "        return \"Method from Child\"\n",
    "\n",
    "child = Child()\n",
    "print(child.base_method())  # Output: Method from Base\n",
    "print(child.parent1_method())  # Output: Method from Parent1\n",
    "print(child.parent2_method())  # Output: Method from Parent2\n",
    "print(child.child_method())  # Output: Method from Child\n",
    "```"
   ]
  },
  {
   "cell_type": "markdown",
   "id": "70439f18-5a9b-4aff-b1a8-4322271395b8",
   "metadata": {},
   "source": [
    "# What is encapsulation? Explain it with an example\n",
    "\n",
    "* Data Hiding: Encapsulation hides the internal state of an object from the outside. Direct access to some of an object's attributes is restricted to prevent unintended modifications.\n",
    "* Access Control: Encapsulation provides public methods to access and modify private attributes, ensuring controlled access.\n",
    "* Maintainability: Encapsulation makes it easier to change and maintain the code by isolating changes to the internal state within the class itself.\n",
    "* Modularity: Encapsulation helps in organizing code into separate, self-contained units (classes), making the system more modular."
   ]
  },
  {
   "cell_type": "code",
   "execution_count": 5,
   "id": "cdba0405-acaa-4d3f-ac67-a1a9beb6e82b",
   "metadata": {},
   "outputs": [
    {
     "name": "stdout",
     "output_type": "stream",
     "text": [
      "1000\n",
      "1500\n",
      "1300\n"
     ]
    },
    {
     "ename": "AttributeError",
     "evalue": "'BankAccount' object has no attribute '__balance'",
     "output_type": "error",
     "traceback": [
      "\u001b[0;31m---------------------------------------------------------------------------\u001b[0m",
      "\u001b[0;31mAttributeError\u001b[0m                            Traceback (most recent call last)",
      "Cell \u001b[0;32mIn[5], line 37\u001b[0m\n\u001b[1;32m     34\u001b[0m \u001b[38;5;28mprint\u001b[39m(account\u001b[38;5;241m.\u001b[39mget_balance())  \n\u001b[1;32m     36\u001b[0m \u001b[38;5;66;03m# Trying to access the private attribute directly (will raise an AttributeError)\u001b[39;00m\n\u001b[0;32m---> 37\u001b[0m \u001b[38;5;28mprint\u001b[39m(\u001b[43maccount\u001b[49m\u001b[38;5;241;43m.\u001b[39;49m\u001b[43m__balance\u001b[49m)  \u001b[38;5;66;03m# Uncommenting this line will raise an AttributeError\u001b[39;00m\n",
      "\u001b[0;31mAttributeError\u001b[0m: 'BankAccount' object has no attribute '__balance'"
     ]
    }
   ],
   "source": [
    "# EXAMPLE\n",
    "class BankAccount:\n",
    "    def __init__(self, owner, balance=0):\n",
    "        self.owner = owner\n",
    "        self.__balance = balance  # Private attribute\n",
    "\n",
    "    def deposit(self, amount):\n",
    "        if amount > 0:\n",
    "            self.__balance += amount\n",
    "            return True\n",
    "        return False\n",
    "\n",
    "    def withdraw(self, amount):\n",
    "        if 0 < amount <= self.__balance:\n",
    "            self.__balance -= amount\n",
    "            return True\n",
    "        return False\n",
    "\n",
    "    def get_balance(self):  # Public method to access private attribute\n",
    "        return self.__balance\n",
    "\n",
    "# Creating an instance of BankAccount\n",
    "account = BankAccount(\"Daizy\", 1000)\n",
    "\n",
    "# Accessing the balance using the public method\n",
    "print(account.get_balance())  \n",
    "\n",
    "# Depositing money\n",
    "account.deposit(500)\n",
    "print(account.get_balance())  \n",
    "\n",
    "# Withdrawing money\n",
    "account.withdraw(200)\n",
    "print(account.get_balance())  \n",
    "\n",
    "# Trying to access the private attribute directly (will raise an AttributeError)\n",
    "print(account.__balance) "
   ]
  },
  {
   "cell_type": "markdown",
   "id": "e71a4c7a-06e3-43aa-bb91-96831fc45eda",
   "metadata": {},
   "source": [
    "# What is Polymorphism? Explain it with an example.\n",
    "* It refers to the ability of different classes to be treated as instances of the same class through a common interface.\n",
    "* This allows for methods to be used interchangeably on objects of different classes, enhancing flexibility and reusability in code."
   ]
  },
  {
   "cell_type": "code",
   "execution_count": 6,
   "id": "19ecff26-6e4f-4db0-9973-67941d4c2317",
   "metadata": {},
   "outputs": [
    {
     "name": "stdout",
     "output_type": "stream",
     "text": [
      "The area of the shape is: 78.5\n",
      "The area of the shape is: 24\n"
     ]
    }
   ],
   "source": [
    "# EXAMPLE\n",
    "class Shape:\n",
    "    def area(self):\n",
    "        pass\n",
    "\n",
    "class Circle(Shape):\n",
    "    def __init__(self, radius):\n",
    "        self.radius = radius\n",
    "\n",
    "    def area(self):\n",
    "        return 3.14 * self.radius ** 2\n",
    "\n",
    "class Rectangle(Shape):\n",
    "    def __init__(self, width, height):\n",
    "        self.width = width\n",
    "        self.height = height\n",
    "\n",
    "    def area(self):\n",
    "        return self.width * self.height\n",
    "\n",
    "# Polymorphism in action\n",
    "shapes = [Circle(5), Rectangle(4, 6)]\n",
    "\n",
    "for shape in shapes:\n",
    "    print(f\"The area of the shape is: {shape.area()}\")\n"
   ]
  },
  {
   "cell_type": "markdown",
   "id": "a690528b-57a2-478b-9957-59fdc395510d",
   "metadata": {},
   "source": [
    "# Question 1. 2. Which of the following identifier names are invalid and why?\n",
    "* a) Serial_no.\n",
    "* b) 1st_Room\n",
    "* c) Hundred$\n",
    "* d) Total_Marks\n",
    "* e) total-Marks\n",
    "* f) Total Marks\n",
    "* g) True\n",
    "* h) _Percentag\n",
    "\n",
    "### Answer\n",
    "#### Invalid identifiers:\n",
    "* Serial_no., 1st_Room, Hundred$, total-Marks, Total Marks, True\n",
    "\n",
    "* The period (.) , dollar sign ($) , hyphen (-) , Spaces  are not allowed in identifiers.\n",
    "* Identifiers cannot start with a digit. \n",
    "* True is a reserved keyword in Python and cannot be used as an identifier.\n",
    "\n",
    "#### Valid identifiers: \n",
    "* Total_Marks, _Percentag"
   ]
  },
  {
   "cell_type": "markdown",
   "id": "e3c84753-44e9-47ae-9bfa-bd00e20f3fa5",
   "metadata": {},
   "source": [
    "# Question 1.3 Do the following operations in this list;\n",
    "\n",
    "#### a) add an element \"freedom_fighter\" in this list at the 0th index.\n",
    "```\n",
    "name = [\"Mohan\", \"dash\", \"karam\", \"chandra\",\"gandhi\",\"Bapu\"]\n",
    "```"
   ]
  },
  {
   "cell_type": "code",
   "execution_count": 4,
   "id": "57a84aaf-db0d-4b19-b5ac-638da806cc90",
   "metadata": {},
   "outputs": [
    {
     "name": "stdout",
     "output_type": "stream",
     "text": [
      "Updated List :  ['freedom_fighter', 'Mohan', 'dash', 'karam', 'chandra', 'gandhi', 'Bapu']\n"
     ]
    }
   ],
   "source": [
    "name = [\"Mohan\", \"dash\", \"karam\", \"chandra\",\"gandhi\",\"Bapu\"]\n",
    "name.insert(0,  \"freedom_fighter\")\n",
    "print(\"Updated List : \", name)"
   ]
  },
  {
   "cell_type": "markdown",
   "id": "d9e590ef-351b-4b8b-8d23-30809b95c025",
   "metadata": {},
   "source": [
    "#### b) find the output of the following ,and explain how?\n",
    "```python\n",
    "name = [\"freedomFighter\",\"Bapuji\",\"MOhan\" \"dash\", \"karam\", \"chandra\",\"gandhi\"]\n",
    "length1=len((name[-len(name)+1:-1:2]))\n",
    "length2=len((name[-len(name)+1:-1]))\n",
    "print(length1+length2)\n",
    "```"
   ]
  },
  {
   "cell_type": "code",
   "execution_count": 10,
   "id": "b019ae6e-4e1a-470d-a8ae-136829a24fda",
   "metadata": {},
   "outputs": [
    {
     "name": "stdout",
     "output_type": "stream",
     "text": [
      "Output :  6\n"
     ]
    }
   ],
   "source": [
    "# There is no comma between \"MOhan\" and \"dash\", so they will be concatenated into a single string:\n",
    "name = [\"freedomFighter\",\"Bapuji\",\"MOhandash\", \"karam\", \"chandra\",\"gandhi\"] \n",
    "\n",
    "length1 = len((name[-len(name)+1:-1:2]))\n",
    "\n",
    "# -len(name) is -6 because the length of name is 6.\n",
    "# -len(name)+1 is -6+1 which is -5.\n",
    "# So, the slice name[-5:-1:2]:\n",
    "# Starts at index -5 which is the 2nd element from the beginning: \"Bapuji\"\n",
    "# Ends at index -1 (exclusive), so it stops before \"gandhi\".\n",
    "# Takes every second element: [\"Bapuji\", \"karam\"].\n",
    "# The length of this slice is 2.\n",
    "\n",
    "length2 = len((name[-len(name)+1:-1]))\n",
    "\n",
    "# -len(name) is -6.\n",
    "# -len(name)+1 is -5.\n",
    "# So, the slice name[-5:-1]:\n",
    "# Starts at index -5: \"Bapuji\"\n",
    "# Ends at index -1 (exclusive), so it stops before \"gandhi\".\n",
    "# The slice is: [\"Bapuji\", \"MOhandash\", \"karam\", \"chandra\"].\n",
    "# The length of this slice is 4.\n",
    "\n",
    "print(\"Output : \" , length1+length2)"
   ]
  },
  {
   "cell_type": "markdown",
   "id": "8e57f073-2e19-497d-ba01-6dceb6de1484",
   "metadata": {},
   "source": [
    "#### c) add two more elements in the name [\"NetaJi\",\"Bose\"] at the end of the list."
   ]
  },
  {
   "cell_type": "code",
   "execution_count": 14,
   "id": "21c4e5ed-a73b-4558-ab79-2570a7aafbce",
   "metadata": {},
   "outputs": [
    {
     "name": "stdout",
     "output_type": "stream",
     "text": [
      "Updated List :  ['Mohan', 'dash', 'karam', 'chandra', 'gandhi', 'Bapu', 'NetaJi', 'Bose']\n"
     ]
    }
   ],
   "source": [
    "name = [\"Mohan\", \"dash\", \"karam\", \"chandra\",\"gandhi\",\"Bapu\"]\n",
    "name.extend([\"NetaJi\",\"Bose\"])\n",
    "print(\"Updated List : \", name)"
   ]
  },
  {
   "cell_type": "markdown",
   "id": "2a6166d7-482d-4e01-b3d8-51dd30b63f41",
   "metadata": {},
   "source": [
    "#### d) what will be the value of temp:\n",
    "```python\n",
    "name = [\"Bapuji\", \"dash\", \"karam\", \"chandra\",\"gandi\",\"Mohan\"]\n",
    "temp=name[-1]\n",
    "name[-1]=name[0]\n",
    "name[0]=temp\n",
    "print(name)\n",
    "```"
   ]
  },
  {
   "cell_type": "code",
   "execution_count": 18,
   "id": "a445a2f4-adef-404a-a4a6-454bee30da18",
   "metadata": {},
   "outputs": [
    {
     "name": "stdout",
     "output_type": "stream",
     "text": [
      "name =  ['Mohan', 'dash', 'karam', 'chandra', 'gandi', 'Bapuji']\n",
      "Value of temp :  Mohan\n"
     ]
    }
   ],
   "source": [
    "name = [\"Bapuji\", \"dash\", \"karam\", \"chandra\",\"gandi\",\"Mohan\"]\n",
    "temp=name[-1] # temp = Mohan\n",
    "name[-1]=name[0] # name[-1] = Bapuji\n",
    "name[0]=temp # name[0] = Mohan\n",
    "print(\"name = \",name) # ['Mohan', 'dash', 'karam', 'chandra', 'gandi', 'Bapuji']\n",
    "print(\"Value of temp : \" , temp) # Mohan"
   ]
  },
  {
   "cell_type": "markdown",
   "id": "8aae1a2e-d409-4b95-bd6a-5ae9a3b40708",
   "metadata": {},
   "source": [
    "# Question 1.4.Find the output of the following.\n",
    "```python\n",
    "animal = ['Human','cat','mat','cat','rat','Human', 'Lion']\n",
    "print(animal.count('Human'))\n",
    "print(animal.index('rat'))\n",
    "print(len(animal))\n",
    "```"
   ]
  },
  {
   "cell_type": "code",
   "execution_count": 20,
   "id": "3c7cf4bc-a93d-4510-bd98-bcadbf5203ed",
   "metadata": {},
   "outputs": [
    {
     "name": "stdout",
     "output_type": "stream",
     "text": [
      "2\n",
      "4\n",
      "7\n"
     ]
    }
   ],
   "source": [
    "# This counts the number of occurrences of the string 'Human' in the list.\n",
    "print(animal.count('Human')) \n",
    "\n",
    "# This finds the index of the first occurrence of the string 'rat' in the list.\n",
    "print(animal.index('rat'))\n",
    "\n",
    "# This returns the number of elements in the list.\n",
    "print(len(animal))"
   ]
  },
  {
   "cell_type": "markdown",
   "id": "872ee6df-c1bd-4676-9766-3bfcbb5155f2",
   "metadata": {},
   "source": [
    "# Question 1.5. \n",
    "``` \n",
    "tuple1=(10,20,\"Apple\",3.4,'a',[\"master\",\"ji\"],(\"sita\",\"geeta\",22),[{\"roll_no\":1}, {\"name\":\"Navneet\"}]) ```\n",
    "* a)print(len(tuple1))\n",
    "* b)print(tuple1[-1][-1][\"name\"])\n",
    "* c)fetch the value of roll_no from this tuple.\n",
    "* d)print(tuple1[-3][1])\n",
    "* e)fetch the element \"22\" from this tuple."
   ]
  },
  {
   "cell_type": "code",
   "execution_count": 5,
   "id": "becb2f1e-681e-4e45-bb5d-c2c879bf554e",
   "metadata": {},
   "outputs": [
    {
     "name": "stdout",
     "output_type": "stream",
     "text": [
      "length of tuple1 is :  8\n",
      "Navneet\n",
      "value of roll_no :  1\n",
      "ji\n",
      "22\n"
     ]
    }
   ],
   "source": [
    "tuple1 = (10 , 20 , \"Apple\" , 3.4 , 'a' , [\"master\",\"ji\"] , (\"sita\",\"geeta\",22) , [{\"roll_no\":1},{\"name\":\"Navneet\"}])\n",
    "\n",
    "# a)\n",
    "print(\"length of tuple1 is : \",len(tuple1))\n",
    "\n",
    "# b)\n",
    "print(tuple1[-1][-1][\"name\"])\n",
    "\n",
    "# c)\n",
    "print(\"value of roll_no : \" , tuple1[-1][0][\"roll_no\"])\n",
    "\n",
    "# d)\n",
    "print(tuple1[-3][1])\n",
    "\n",
    "# e)\n",
    "print(tuple1[-2][2])"
   ]
  },
  {
   "cell_type": "markdown",
   "id": "d02a5d95-3297-4d02-aa29-abc58a33d83e",
   "metadata": {},
   "source": [
    "# 1.6. Write a program to display the appropriate message as per the color of signal(RED-Stop/Yellow-Stay/Green-Go) at the road crossing."
   ]
  },
  {
   "cell_type": "code",
   "execution_count": 13,
   "id": "2510967e-5ca3-4d70-802a-bcc986f29f04",
   "metadata": {},
   "outputs": [
    {
     "name": "stdin",
     "output_type": "stream",
     "text": [
      "signal =  GREen\n"
     ]
    },
    {
     "name": "stdout",
     "output_type": "stream",
     "text": [
      "Go\n"
     ]
    }
   ],
   "source": [
    "\n",
    "def display_msg(input):\n",
    "    if input.upper() == 'RED' :\n",
    "        print(\"Stop\")\n",
    "    elif input.upper() == 'YELLOW' :\n",
    "        print(\"Stay\")\n",
    "    elif input.upper() == 'GREEN' :\n",
    "        print(\"Go\")\n",
    "    else :\n",
    "        print(\"Invalid input\")\n",
    "    \n",
    "signal = input(\"signal = \")\n",
    "display_msg(signal)"
   ]
  },
  {
   "cell_type": "markdown",
   "id": "be6e9615-870b-4ba7-85b2-fe3542064dc6",
   "metadata": {},
   "source": [
    "# 1.7. Write a program to create a simple calculator performing only four basic operations(+,-,/,*)"
   ]
  },
  {
   "cell_type": "code",
   "execution_count": 18,
   "id": "ea655398-b035-474e-8cd4-255dceeeb16e",
   "metadata": {},
   "outputs": [
    {
     "name": "stdout",
     "output_type": "stream",
     "text": [
      "For addition enter => +\n",
      "For subtraction enter => -\n",
      "For multiplication enter => *\n",
      "For division enter => /\n",
      "\n"
     ]
    },
    {
     "name": "stdin",
     "output_type": "stream",
     "text": [
      " /\n",
      "Enter numbers separated by spaces:  100 10 5 2\n"
     ]
    },
    {
     "data": {
      "text/plain": [
       "1.0"
      ]
     },
     "execution_count": 18,
     "metadata": {},
     "output_type": "execute_result"
    }
   ],
   "source": [
    "\n",
    "def Calculator(operator , *args) :\n",
    "    \n",
    "    if not args:\n",
    "        return \"No numbers provided\"\n",
    "    try:\n",
    "        numbers = [float(arg) for arg in args]\n",
    "    except ValueError:\n",
    "        return \"Invalid input: Please enter numbers only\"\n",
    "    \n",
    "    if operator == '+' :\n",
    "        return sum(numbers)\n",
    "    \n",
    "    elif operator == '-':\n",
    "        result = numbers[0]\n",
    "        for num in numbers[1:]:\n",
    "            result -= num\n",
    "            \n",
    "    elif operator == '*':\n",
    "        result = 1\n",
    "        for num in numbers:\n",
    "            result *= num\n",
    "            \n",
    "    elif operator == '/':\n",
    "        result = numbers[0]\n",
    "        try:\n",
    "            for num in numbers[1:]:\n",
    "                result /= num\n",
    "        except ZeroDivisionError:\n",
    "            return \"Error: Division by zero\"\n",
    "    else:\n",
    "        return \"Please enter a valid operator\"\n",
    "\n",
    "    return result\n",
    "\n",
    "print(\"For addition enter => +\\nFor subtraction enter => -\\nFor multiplication enter => *\\nFor division enter => /\\n\")\n",
    "operator = input()\n",
    "args = input(\"Enter numbers separated by spaces: \").split()\n",
    "Calculator(operator , *args)"
   ]
  },
  {
   "cell_type": "markdown",
   "id": "0638bec2-dc59-4037-9dc5-4b0fff432037",
   "metadata": {},
   "source": [
    "# 1.8. Write a program to find the larger of the three pre-specified numbers using ternary operators."
   ]
  },
  {
   "cell_type": "code",
   "execution_count": 19,
   "id": "44e9d2e4-5ab0-4dee-88f3-0bdef1494b19",
   "metadata": {},
   "outputs": [
    {
     "name": "stdout",
     "output_type": "stream",
     "text": [
      "The largest number is: 300\n"
     ]
    }
   ],
   "source": [
    "a = 10\n",
    "b = 20\n",
    "c= 300\n",
    "\n",
    "largest_num = a if ( a>b and a>c) else (b if b>c else c)\n",
    "print(f\"The largest number is: {largest_num}\")"
   ]
  },
  {
   "cell_type": "markdown",
   "id": "04c2ea9b-6f5b-4233-8b8d-6daa678134c5",
   "metadata": {},
   "source": [
    "# 1.9. Write a program to find the factors of a whole number using a while loop."
   ]
  },
  {
   "cell_type": "code",
   "execution_count": 8,
   "id": "eecfefb5-59ea-4130-b811-97581f3cfc85",
   "metadata": {},
   "outputs": [
    {
     "name": "stdin",
     "output_type": "stream",
     "text": [
      "Enter a whole number:  9\n"
     ]
    },
    {
     "name": "stdout",
     "output_type": "stream",
     "text": [
      "The factors of 9 are: [1, 3, 9]\n"
     ]
    }
   ],
   "source": [
    "def find_factors(num):\n",
    "    factors = []\n",
    "    i = 1\n",
    "    while i <= num:\n",
    "        if num % i == 0:\n",
    "            factors.append(i)\n",
    "        i += 1\n",
    "    return factors\n",
    "\n",
    "num = int(input(\"Enter a whole number: \"))\n",
    "factors = find_factors(num)\n",
    "print(f\"The factors of {num} are: {factors}\")\n"
   ]
  },
  {
   "cell_type": "markdown",
   "id": "28aaa31f-0a47-4d4f-ab1e-f9eda0657d15",
   "metadata": {},
   "source": [
    "# 1.10. Write a program to find the sum of all the positive numbers entered by the user. As soon as the user enters a negative number, stop taking in any further input from the user and display the sum ."
   ]
  },
  {
   "cell_type": "code",
   "execution_count": 22,
   "id": "9c5ce98a-197f-45cc-9815-29959ab25356",
   "metadata": {},
   "outputs": [
    {
     "name": "stdin",
     "output_type": "stream",
     "text": [
      "Enter a number:  4\n",
      "Enter a number:  5\n",
      "Enter a number:  3\n",
      "Enter a number:  5\n",
      "Enter a number:  -9\n"
     ]
    },
    {
     "name": "stdout",
     "output_type": "stream",
     "text": [
      "The sum of all positive numbers is: 17.0\n"
     ]
    }
   ],
   "source": [
    "def sum_of_pos(numbers):\n",
    "    total = 0\n",
    "    for num in numbers:\n",
    "        if num < 0:\n",
    "            break\n",
    "        total += num\n",
    "    return total\n",
    "\n",
    "# Continuously take input from the user until a negative number is entered\n",
    "numbers = []\n",
    "while True:\n",
    "    try:\n",
    "        num = float(input(\"Enter a number: \"))\n",
    "        if num < 0:\n",
    "            break\n",
    "        numbers.append(num)\n",
    "    except ValueError:\n",
    "        print(\"Invalid input: Please enter a valid number\")\n",
    "\n",
    "# Calculate the sum of positive numbers\n",
    "result = sum_of_pos(numbers)\n",
    "print(f\"The sum of all positive numbers is: {result}\")\n"
   ]
  },
  {
   "cell_type": "markdown",
   "id": "78f426b0-000c-4dae-b3d1-f80d360f5374",
   "metadata": {},
   "source": [
    "# 1.11. Write a program to find prime numbers between 2 to 100 using nested for loops."
   ]
  },
  {
   "cell_type": "code",
   "execution_count": 9,
   "id": "1d3cd8e0-5e85-4cb3-a201-bfc14ab54dec",
   "metadata": {},
   "outputs": [
    {
     "name": "stdout",
     "output_type": "stream",
     "text": [
      "2 3 5 7 11 13 17 19 23 29 31 37 41 43 47 53 59 61 67 71 73 79 83 89 97 "
     ]
    }
   ],
   "source": [
    "def find_primes():\n",
    "    for num in range(2, 101):  # Iterate over each number from 2 to 100\n",
    "        is_prime = True  # Assume the number is prime\n",
    "        for i in range(2, int(num ** 0.5) + 1):  # Check divisibility from 2 to the square root of the number\n",
    "            if num % i == 0:  # If divisible, the number is not prime\n",
    "                is_prime = False\n",
    "                break  # No need to check further\n",
    "        if is_prime:\n",
    "            print(num, end=\" \")  # Print the prime number\n",
    "\n",
    "find_primes()"
   ]
  },
  {
   "cell_type": "markdown",
   "id": "835a9bf9-10b5-44d1-8f9a-396f21f43206",
   "metadata": {},
   "source": [
    "# 1.12. Write the programs for the following\n",
    "* Accept the marks of the student in five major subjects and display the same\n",
    "* Calculate the sum of the marks of all subjects.Divide the total marks by number of subjects (i.e. 5), calculate Percentage = total marks/5 and display the percentage\n",
    "* Find the grade of the student as per the following criteria . Hint: Use Match & case for this.:"
   ]
  },
  {
   "cell_type": "code",
   "execution_count": 1,
   "id": "3d26a07f-f492-475c-8425-1a651f33a4e1",
   "metadata": {},
   "outputs": [
    {
     "name": "stdout",
     "output_type": "stream",
     "text": [
      "Enter the marks for the subjects : \n"
     ]
    },
    {
     "name": "stdin",
     "output_type": "stream",
     "text": [
      "English 87\n",
      "Maths 92\n",
      "Science 88\n",
      "SS 200\n"
     ]
    },
    {
     "name": "stdout",
     "output_type": "stream",
     "text": [
      "enter a valid mark between 0 and 100.\n"
     ]
    },
    {
     "name": "stdin",
     "output_type": "stream",
     "text": [
      "SS j\n"
     ]
    },
    {
     "name": "stdout",
     "output_type": "stream",
     "text": [
      "Invalid input. Please enter a number.\n"
     ]
    },
    {
     "name": "stdin",
     "output_type": "stream",
     "text": [
      "SS 49\n",
      "Hindi 94\n"
     ]
    },
    {
     "name": "stdout",
     "output_type": "stream",
     "text": [
      "\n",
      "Student Marks:\n",
      "English: 87.0\n",
      "Maths: 92.0\n",
      "Science: 88.0\n",
      "SS: 49.0\n",
      "Hindi: 94.0\n"
     ]
    }
   ],
   "source": [
    "# a)\n",
    "def get_marks():\n",
    "    \n",
    "    subject = [\"English\" , \"Maths\" , \"Science\" , \"SS\" , \"Hindi\"]\n",
    "    marks = {}\n",
    "    \n",
    "    print(\"Enter the marks for the subjects : \")\n",
    "    for sub in subject:\n",
    "        while True:\n",
    "            try:\n",
    "                mark = float(input(f\"{sub}\"))\n",
    "                if mark < 0 or mark >100 :\n",
    "                    print(\"enter a valid mark between 0 and 100.\")\n",
    "                else:\n",
    "                    marks[sub] = mark\n",
    "                    break\n",
    "            except ValueError:\n",
    "                print(\"Invalid input. Please enter a number.\")\n",
    "    return marks\n",
    "        \n",
    "def display_marks(marks):\n",
    "    print(\"\\nStudent Marks:\")\n",
    "    for subject, mark in marks.items():\n",
    "        print(f\"{subject}: {mark}\")\n",
    "        \n",
    "m = get_marks()\n",
    "display_marks(m)\n"
   ]
  },
  {
   "cell_type": "code",
   "execution_count": 4,
   "id": "eac423b2-c360-46a1-9c92-990db20d55e4",
   "metadata": {},
   "outputs": [
    {
     "name": "stdout",
     "output_type": "stream",
     "text": [
      "\n",
      "Sum of the marks of all subjects :  410.0\n"
     ]
    },
    {
     "data": {
      "text/plain": [
       "82.0"
      ]
     },
     "execution_count": 4,
     "metadata": {},
     "output_type": "execute_result"
    }
   ],
   "source": [
    "# b)\n",
    "def display_percentage(marks):\n",
    "    sum = 0\n",
    "    for mark in marks.values():\n",
    "        sum += mark\n",
    "        \n",
    "    print(\"\\nSum of the marks of all subjects : \",sum)\n",
    "    percentage = sum/5\n",
    "    return percentage\n",
    "    #print(\"percentage : \" , percentage)\n",
    "    \n",
    "display_percentage(m)    "
   ]
  },
  {
   "cell_type": "code",
   "execution_count": 10,
   "id": "8146de10-8c2d-4e07-8c34-69d51002f062",
   "metadata": {},
   "outputs": [
    {
     "name": "stdout",
     "output_type": "stream",
     "text": [
      "\n",
      "Sum of the marks of all subjects :  410.0\n",
      "Grade is B for  82.0 percentage\n"
     ]
    }
   ],
   "source": [
    "# c)\n",
    "def calculate_grade(percentage):\n",
    "    match percentage:\n",
    "        case p if p > 85:\n",
    "            return 'A'\n",
    "        case p if 75 <= p < 85:\n",
    "            return 'B'\n",
    "        case p if 50 <= p < 75:\n",
    "            return 'C'\n",
    "        case p if 30 <= p < 50:\n",
    "            return 'D'\n",
    "        case _:\n",
    "            return 'E'\n",
    "        \n",
    "per = display_percentage(m)\n",
    "grade = calculate_grade(per)\n",
    "print(f\"Grade is {grade} for  {per} percentage\")"
   ]
  },
  {
   "cell_type": "markdown",
   "id": "4fa0a201-bc9f-40cb-b7dd-a8d823a34a0c",
   "metadata": {},
   "source": [
    "# 1.13. Write a program for VIBGYOR Spectrum based on their Wavelength using. Wavelength Range:\n",
    " \n",
    "* Violet - 400-440\n",
    "* Indigo -  440-460\n",
    "* Blue -    460-500\n",
    "* Green -   500-570\n",
    "* Yellow - 570-590\n",
    "* Orange - 590-620\n",
    "* Red - 620-720"
   ]
  },
  {
   "cell_type": "code",
   "execution_count": 12,
   "id": "2b820b06-7003-4d88-8cd4-7f581e19772a",
   "metadata": {},
   "outputs": [
    {
     "name": "stdin",
     "output_type": "stream",
     "text": [
      "Enter the wavelength (in nm):  500\n"
     ]
    },
    {
     "name": "stdout",
     "output_type": "stream",
     "text": [
      "The color corresponding to the wavelength 500.0 nm is: Green\n"
     ]
    }
   ],
   "source": [
    "def vibgyor(wavelength):\n",
    "    \n",
    "    if 400 <= wavelength < 440:\n",
    "        return \"Violet\"\n",
    "    elif 440 <= wavelength < 460:\n",
    "        return \"Indigo\"\n",
    "    elif 460 <= wavelength < 500:\n",
    "        return \"Blue\"\n",
    "    elif 500 <= wavelength < 570:\n",
    "        return \"Green\"\n",
    "    elif 570 <= wavelength < 590:\n",
    "        return \"Yellow\"\n",
    "    elif 590 <= wavelength < 620:\n",
    "        return \"Orange\"\n",
    "    elif 620 <= wavelength <= 720:\n",
    "        return \"Red\"\n",
    "    else:\n",
    "        return \"Wavelength out of range for VIBGYOR spectrum\"\n",
    "\n",
    "\n",
    "try:\n",
    "    wavelength = float(input(\"Enter the wavelength (in nm): \"))\n",
    "    color = vibgyor(wavelength)\n",
    "    print(f\"The color corresponding to the wavelength {wavelength} nm is: {color}\")\n",
    "except ValueError:\n",
    "    print(\"Invalid input. Please enter a valid number.\")"
   ]
  },
  {
   "cell_type": "markdown",
   "id": "98c3b2a6-1c1d-40f7-9857-04656df21337",
   "metadata": {},
   "source": [
    "# 1.14.Consider the gravitational interactions between the Earth, Moon, and Sun in our solar system.\n",
    "* Given:\n",
    "* mass_earth = 5.972e24 # Mass of Earth in kilograms\n",
    "* mass_moon = 7.34767309e22 # Mass of Moon in kilograms\n",
    "* mass_sun = 1.989e30 # Mass of Sun in kilograms\n",
    "* distance_earth_sun = 1.496e # Average distance between Earth and Sun in meters\n",
    "* distance_moon_earth = 3.844e8 # Average distance between Moon and Earth in meters\n",
    "\n",
    "##### a)Calculate the gravitational force between the Earth and the Sun\n",
    "##### b)Calculate the gravitational force between the Moon and the Earth\n",
    "##### c)Compare the calculated forces to determine which gravitational force is stronger\n",
    "##### d)Explain which celestial body (Earth or Moon is more attracted to the other based on the comparison."
   ]
  },
  {
   "cell_type": "code",
   "execution_count": 13,
   "id": "8eeb7b77-f6a5-426b-ab5e-9d733a08695a",
   "metadata": {},
   "outputs": [
    {
     "name": "stdout",
     "output_type": "stream",
     "text": [
      "Gravitational Force between Earth and Sun: 3.54e+22 N\n",
      "Gravitational Force between Moon and Earth: 1.98e+20 N\n",
      "The stronger gravitational force is between: Earth and Sun\n",
      "The gravitational force between the Earth and the Sun is stronger.\n",
      "The Earth is more attracted to the Sun due to the stronger gravitational force.\n"
     ]
    }
   ],
   "source": [
    "# Constants\n",
    "G = 6.67430e-11 # Gravitational constant in m^3 kg^-1 s^-2\n",
    "mass_earth = 5.972e24 # Mass of Earth in kilograms\n",
    "mass_moon = 7.34767309e22 # Mass of Moon in kilograms\n",
    "mass_sun = 1.989e30 # Mass of Sun in kilograms\n",
    "distance_earth_sun = 1.496e11 # Average distance between Earth and Sun in meters\n",
    "distance_moon_earth = 3.844e8 # Average distance between Moon and Earth in meters\n",
    "\n",
    "# Calculate gravitational force between Earth and Sun\n",
    "F_earth_sun = G * (mass_earth * mass_sun) / (distance_earth_sun ** 2)\n",
    "\n",
    "# Calculate gravitational force between Moon and Earth\n",
    "F_moon_earth = G * (mass_moon * mass_earth) / (distance_moon_earth ** 2)\n",
    "\n",
    "# Compare the forces\n",
    "if F_earth_sun > F_moon_earth:\n",
    "    stronger_force = \"Earth and Sun\"\n",
    "else:\n",
    "    stronger_force = \"Moon and Earth\"\n",
    "\n",
    "# Print the results\n",
    "print(f\"Gravitational Force between Earth and Sun: {F_earth_sun:.2e} N\")\n",
    "print(f\"Gravitational Force between Moon and Earth: {F_moon_earth:.2e} N\")\n",
    "print(f\"The stronger gravitational force is between: {stronger_force}\")\n",
    "\n",
    "if F_earth_sun > F_moon_earth:\n",
    "    print(\"The gravitational force between the Earth and the Sun is stronger.\")\n",
    "    print(\"The Earth is more attracted to the Sun due to the stronger gravitational force.\")\n",
    "else:\n",
    "    print(\"The gravitational force between the Moon and the Earth is stronger.\")\n",
    "    print(\"The Moon is more attracted to the Earth due to the stronger gravitational force.\")\n"
   ]
  },
  {
   "cell_type": "markdown",
   "id": "13c1b7f4-3308-4eb1-b762-a744a6911343",
   "metadata": {},
   "source": [
    "# 2. Design and implement a Python program for managing student information using object-oriented principles. Create a class called `Student` with encapsulated attributes for name, age, and roll number. Implement getter and setter methods for these attributes. Additionally, provide methods to display student information and update student details.\n",
    "##### Tasks\n",
    "* Define the `Student` class with encapsulated attributes\n",
    "* Implement getter and setter methods for the attributes\n",
    "* Write methods to display student information and update details\n",
    "* Create instances of the `Student` class and test the implemented functionality."
   ]
  },
  {
   "cell_type": "code",
   "execution_count": 6,
   "id": "8b350044-d69f-476e-b43a-331e750caf24",
   "metadata": {},
   "outputs": [
    {
     "name": "stdout",
     "output_type": "stream",
     "text": [
      "Student Name: DAIZY\n",
      "Age: 20\n",
      "Roll Num: 39\n",
      "\n",
      "Student Name: Janvi\n",
      "Age: 22\n",
      "Roll Num: 92\n",
      "\n",
      "Updated Student 1 Details:\n",
      "Student Name: DAIZY GUPTA\n",
      "Age: 25\n",
      "Roll Num: 39\n",
      "\n",
      "Updated Student 2 Details:\n",
      "Student Name: Janvi\n",
      "Age: 22\n",
      "Roll Num: 3992\n"
     ]
    }
   ],
   "source": [
    "class Student:\n",
    "    def __init__(self, name, age, roll_num):\n",
    "        self.__name = name\n",
    "        self.__age = age\n",
    "        self.__roll_num = roll_num\n",
    "        \n",
    "    def get_name(self):\n",
    "        return self.__name\n",
    "    def set_name(self, name):\n",
    "        self.__name = name\n",
    "    def get_age(self):\n",
    "        return self.__age\n",
    "    def set_age(self, age):\n",
    "        if age > 0:\n",
    "            self.__age = age\n",
    "        else:\n",
    "            print(\"Age shud be a +ive integer.\")\n",
    "\n",
    "    def get_roll_num(self):\n",
    "        return self.__roll_num\n",
    "    def set_roll_num(self, roll_num):\n",
    "        self.__roll_num = roll_num\n",
    "        \n",
    "    def display_info(self):\n",
    "        print(f\"Student Name: {self.__name}\")\n",
    "        print(f\"Age: {self.__age}\")\n",
    "        print(f\"Roll Num: {self.__roll_num}\")\n",
    "\n",
    "    # Method to update student details\n",
    "    def update_details(self, name=None, age=None, roll_num=None):\n",
    "        if name:\n",
    "            self.set_name(name)\n",
    "        if age:\n",
    "            self.set_age(age)\n",
    "        if roll_num:\n",
    "            self.set_roll_num(roll_num)\n",
    "\n",
    "stud1 = Student(\"DAIZY\", 20, \"39\")\n",
    "stud2 = Student(\"Janvi\", 22, \"92\")\n",
    "\n",
    "stud1.display_info()\n",
    "print()\n",
    "stud2.display_info()\n",
    "\n",
    "stud1.update_details(name=\"DAIZY GUPTA\", age=25)\n",
    "print(\"\\nUpdated Student 1 Details:\")\n",
    "stud1.display_info()\n",
    "\n",
    "# Update details of student2\n",
    "stud2.update_details(roll_num=\"3992\")\n",
    "print(\"\\nUpdated Student 2 Details:\")\n",
    "stud2.display_info()\n"
   ]
  },
  {
   "cell_type": "markdown",
   "id": "0a92f42e-383a-4f3c-b30b-762a42cefa53",
   "metadata": {},
   "source": [
    "# 3.Develop a Python program for managing library resources efficiently. Design a class named `LibraryBook` with attributes like book name, author, and availability status. Implement methods for borrowing and returning books while ensuring proper encapsulation of attributes.\n",
    "##### Tasks\n",
    "* 1. Create the `LibraryBook` class with encapsulated attributes\n",
    "* 2. Implement methods for borrowing and returning books\n",
    "* 3. Ensure proper encapsulation to protect book details\n",
    "* 4. Test the borrowing and returning functionality with sample data."
   ]
  },
  {
   "cell_type": "code",
   "execution_count": 13,
   "id": "9b6cf7e0-3aec-4971-8d57-bab94b3b1e30",
   "metadata": {},
   "outputs": [
    {
     "name": "stdout",
     "output_type": "stream",
     "text": [
      "Book Name: DS\n",
      "Author: ABC\n",
      "Status: Available\n",
      "\n",
      "Book Name: DA\n",
      "Author: XYZ\n",
      "Status: Available\n",
      "\n",
      "Borrowing Book 1:\n",
      "You have successfully borrowed \"DS\".\n",
      "\n",
      "Trying to Borrow Book 1 Again:\n",
      "Sorry, \"DS\" is currently not available.\n",
      "\n",
      "Returning Book 1:\n",
      "You have successfully returned \"DS\".\n",
      "\n",
      "Trying to Return Book 1 Again:\n",
      "\"DS\" was not borrowed.\n",
      "\n",
      "Updated Book Details:\n",
      "Book Name: DS\n",
      "Author: ABC\n",
      "Status: Available\n",
      "\n",
      "Book Name: DA\n",
      "Author: XYZ\n",
      "Status: Available\n"
     ]
    }
   ],
   "source": [
    "class LibraryBook:\n",
    "    def __init__(self, book_name, author):\n",
    "        self.__book_name = book_name\n",
    "        self.__author = author\n",
    "        self.__is_available = True\n",
    "\n",
    "    def get_book_name(self):\n",
    "        return self.__book_name\n",
    "    def get_author(self):\n",
    "        return self.__author\n",
    "    def is_available(self):\n",
    "        return self.__is_available\n",
    "\n",
    "    def borrow_book(self):\n",
    "        if self.__is_available:\n",
    "            self.__is_available = False\n",
    "            print(f'You have successfully borrowed \"{self.__book_name}\".')\n",
    "        else:\n",
    "            print(f'Sorry, \"{self.__book_name}\" is currently not available.')\n",
    "\n",
    "    def return_book(self):\n",
    "        if not self.__is_available:\n",
    "            self.__is_available = True\n",
    "            print(f'You have successfully returned \"{self.__book_name}\".')\n",
    "        else:\n",
    "            print(f'\"{self.__book_name}\" was not borrowed.')\n",
    "\n",
    "    def display_info(self):\n",
    "        status = \"Available\" if self.__is_available else \"Not Available\"\n",
    "        print(f\"Book Name: {self.__book_name}\")\n",
    "        print(f\"Author: {self.__author}\")\n",
    "        print(f\"Status: {status}\")\n",
    "\n",
    "\n",
    "book1 = LibraryBook(\"DS\", \"ABC\")\n",
    "book2 = LibraryBook(\"DA\", \"XYZ\")\n",
    "\n",
    "book1.display_info()\n",
    "print()  # For better readability\n",
    "book2.display_info()\n",
    "\n",
    "print(\"\\nBorrowing Book 1:\")\n",
    "book1.borrow_book()\n",
    "\n",
    "print(\"\\nTrying to Borrow Book 1 Again:\")\n",
    "book1.borrow_book()\n",
    "\n",
    "print(\"\\nReturning Book 1:\")\n",
    "book1.return_book()\n",
    "\n",
    "print(\"\\nTrying to Return Book 1 Again:\")\n",
    "book1.return_book()\n",
    "\n",
    "print(\"\\nUpdated Book Details:\")\n",
    "book1.display_info()\n",
    "print()  # For better readability\n",
    "book2.display_info()\n"
   ]
  },
  {
   "cell_type": "markdown",
   "id": "209ccddc-4091-4f72-b441-c3687dafc070",
   "metadata": {},
   "source": [
    "# 4.Create a simple banking system using object-oriented concepts in Python. Design classes representing different types of bank accounts such as savings and checking. Implement methods for deposit, withdraw, and balance inquiry. Utilize inheritance to manage different account types efficiently.\n",
    "##### Tasks\n",
    "* 1. Define base class(es) for bank accounts with common attributes and methods\n",
    "* 2. Implement subclasses for specific account types (e.g., SavingsAccount, CheckingAccount)\n",
    "* 3. Provide methods for deposit, withdraw, and balance inquiry in each subclass\n",
    "* 4. Test the banking system by creating instances of different account types and performing transactions."
   ]
  },
  {
   "cell_type": "code",
   "execution_count": 11,
   "id": "e3cc2249-1ca9-4d56-afff-ffdba8efa10b",
   "metadata": {},
   "outputs": [
    {
     "name": "stdout",
     "output_type": "stream",
     "text": [
      "Savings Account:\n",
      "Deposited rs1000.00. New balance: rs1000.00.\n",
      "Account Balance: rs1000.00\n",
      "Interest added: rs20.00. New balance: rs1020.00.\n",
      "Withdrew rs200.00. New balance: rs820.00.\n",
      "Account Balance: rs820.00\n",
      "\n",
      "Checking Account:\n",
      "Deposited rs500.00. New balance: rs500.00.\n",
      "Account Balance: rs500.00\n",
      "Withdrew rs600.00. New balance: rs-100.00.\n",
      "Account Balance: rs-100.00\n",
      "Overdraft limit exceeded.\n",
      "Account Balance: rs-100.00\n"
     ]
    }
   ],
   "source": [
    "class BankAccount:\n",
    "    def __init__(self, account_number, account_holder):\n",
    "        self.account_number = account_number\n",
    "        self.account_holder = account_holder\n",
    "        self.balance = 0.0\n",
    "\n",
    "    def deposit(self, amount):\n",
    "        if amount > 0:\n",
    "            self.balance += amount\n",
    "            print(f\"Deposited rs{amount:.2f}. New balance: rs{self.balance:.2f}.\")\n",
    "        else:\n",
    "            print(\"Deposit amount must be positive.\")\n",
    "\n",
    "    def withdraw(self, amount):\n",
    "        if amount > 0:\n",
    "            if amount <= self.balance:\n",
    "                self.balance -= amount\n",
    "                print(f\"Withdrew rs{amount:.2f}. New balance: rs{self.balance:.2f}.\")\n",
    "            else:\n",
    "                print(\"Insufficient funds.\")\n",
    "        else:\n",
    "            print(\"Withdrawal amount must be positive.\")\n",
    "\n",
    "    def inquiry(self):\n",
    "        print(f\"Account Balance: rs{self.balance:.2f}\")\n",
    "\n",
    "class SavingsAccount(BankAccount):\n",
    "    def __init__(self, account_number, account_holder, interest_rate=0.02):\n",
    "        super().__init__(account_number, account_holder)\n",
    "        self.interest_rate = interest_rate\n",
    "\n",
    "    def add_interest(self):\n",
    "        interest = self.balance * self.interest_rate\n",
    "        self.balance += interest\n",
    "        print(f\"Interest added: rs{interest:.2f}. New balance: rs{self.balance:.2f}.\")\n",
    "\n",
    "class CheckingAccount(BankAccount):\n",
    "    def __init__(self, account_number, account_holder, overdraft_limit=500):\n",
    "        super().__init__(account_number, account_holder)\n",
    "        self.overdraft_limit = overdraft_limit\n",
    "\n",
    "    def withdraw(self, amount):\n",
    "        if amount > 0:\n",
    "            if amount <= self.balance + self.overdraft_limit:\n",
    "                self.balance -= amount\n",
    "                print(f\"Withdrew rs{amount:.2f}. New balance: rs{self.balance:.2f}.\")\n",
    "            else:\n",
    "                print(\"Overdraft limit exceeded.\")\n",
    "        else:\n",
    "            print(\"Withdrawal amount must be positive.\")\n",
    "\n",
    "# Test the banking system\n",
    "# Create a SavingsAccount instance and perform transactions\n",
    "savings_account = SavingsAccount(\"123456\", \"DAIZY\")\n",
    "print(\"Savings Account:\")\n",
    "savings_account.deposit(1000)\n",
    "savings_account.inquiry()\n",
    "savings_account.add_interest()\n",
    "savings_account.withdraw(200)\n",
    "savings_account.inquiry()\n",
    "print()\n",
    "\n",
    "# Create a CheckingAccount instance and perform transactions\n",
    "checking_account = CheckingAccount(\"654321\", \"JANVI\")\n",
    "print(\"Checking Account:\")\n",
    "checking_account.deposit(500)\n",
    "checking_account.inquiry()\n",
    "checking_account.withdraw(600)\n",
    "checking_account.inquiry()\n",
    "checking_account.withdraw(1000)  # Should exceed overdraft limit\n",
    "checking_account.inquiry()\n"
   ]
  },
  {
   "cell_type": "markdown",
   "id": "cf1b364a-a2e3-481b-bf96-ea3efe753f7f",
   "metadata": {},
   "source": [
    "# 5.Write a Python program that models different animals and their sounds. Design a base class called `Animal` with a method `make_sound()`. Create subclasses like `Dog` and `Cat` that override the `make_sound()` method to produce appropriate sounds.\n",
    "##### Tasks\n",
    "* 1. Define the `Animal` class with a method `make_sound()`\n",
    "* 2. Create subclasses `Dog` and `Cat` that override the `make_sound()` method\n",
    "* 3. Implement the sound generation logic for each subclass\n",
    "* 4. Test the program by creating instances of `Dog` and `Cat` and calling the `make_sound()` method."
   ]
  },
  {
   "cell_type": "code",
   "execution_count": 12,
   "id": "e72e85fb-9b63-43f4-9f4c-ce49c213cb82",
   "metadata": {},
   "outputs": [
    {
     "name": "stdout",
     "output_type": "stream",
     "text": [
      "Dog sound:\n",
      "Bhoo Bhoo\n",
      "Cat sound:\n",
      "Meaoo Meaoo!\n"
     ]
    }
   ],
   "source": [
    "class Animal:\n",
    "    def make_sound(self):\n",
    "        raise NotImplementedError(\"Subclasses must implement this method\")\n",
    "\n",
    "class Dog(Animal):\n",
    "    def make_sound(self):\n",
    "        print(\"Bhoo Bhoo\")\n",
    "\n",
    "class Cat(Animal):\n",
    "    def make_sound(self):\n",
    "        print(\"Meaoo Meaoo!\")\n",
    "\n",
    "def test_animal_sounds():\n",
    "    dog = Dog()\n",
    "    cat = Cat()\n",
    "\n",
    "    print(\"Dog sound:\")\n",
    "    dog.make_sound() \n",
    "\n",
    "    print(\"Cat sound:\")\n",
    "    cat.make_sound() \n",
    "\n",
    "test_animal_sounds()\n"
   ]
  },
  {
   "cell_type": "markdown",
   "id": "6aeaff3b-1312-4535-80d2-7cf509ccf0d2",
   "metadata": {},
   "source": [
    "# 6.Write a code for Restaurant Management System Using OOPS\n",
    "* Create a MenuItem class that has attributes such as name, description, price, and category\n",
    "* Implement methods to add a new menu item, update menu item information, and remove a menu item from the menu\n",
    "* Use encapsulation to hide the menu item's unique identification number\n",
    "* Inherit from the MenuItem class to create a FoodItem class and a BeverageItem class, each with their own specific attributes and methods.\n"
   ]
  },
  {
   "cell_type": "code",
   "execution_count": 16,
   "id": "cf418765-1d35-4944-92cd-caa0acfb4807",
   "metadata": {},
   "outputs": [
    {
     "name": "stdout",
     "output_type": "stream",
     "text": [
      "Food Item:\n",
      "ID: 4be215b9-ae87-43f8-8e29-38d7bd849ce7\n",
      "Name: Margherita Pizza\n",
      "Description: Classic cheese pizza with tomato sauce\n",
      "Price: $12.99\n",
      "Category: Food\n",
      "Cuisine Type: Italian\n",
      "\n",
      "Beverage Item:\n",
      "ID: 2c025d4e-6f4e-40a8-91dd-b81def1fc1ae\n",
      "Name: Coke\n",
      "Description: Carbonated soft drink\n",
      "Price: $1.99\n",
      "Category: Beverage\n",
      "Volume: 330 ml\n"
     ]
    }
   ],
   "source": [
    "class MenuItem:\n",
    "    def __init__(self, name, description, price, category):\n",
    "        self.__id = MenuItem.__generate_id()  # Unique identifier for each menu item\n",
    "        self.__name = name\n",
    "        self.__description = description\n",
    "        self.__price = price\n",
    "        self.__category = category\n",
    "\n",
    "    @staticmethod\n",
    "    def __generate_id():\n",
    "        # A simple ID generator for demonstration purposes\n",
    "        from uuid import uuid4\n",
    "        return str(uuid4())\n",
    "\n",
    "    # Getter for item ID\n",
    "    def get_id(self):\n",
    "        return self.__id\n",
    "\n",
    "    # Getter for name\n",
    "    def get_name(self):\n",
    "        return self.__name\n",
    "\n",
    "    # Setter for name\n",
    "    def set_name(self, name):\n",
    "        self.__name = name\n",
    "\n",
    "    # Getter for description\n",
    "    def get_description(self):\n",
    "        return self.__description\n",
    "\n",
    "    # Setter for description\n",
    "    def set_description(self, description):\n",
    "        self.__description = description\n",
    "\n",
    "    # Getter for price\n",
    "    def get_price(self):\n",
    "        return self.__price\n",
    "\n",
    "    # Setter for price\n",
    "    def set_price(self, price):\n",
    "        if price >= 0:\n",
    "            self.__price = price\n",
    "        else:\n",
    "            print(\"Price must be a non-negative value.\")\n",
    "\n",
    "    # Getter for category\n",
    "    def get_category(self):\n",
    "        return self.__category\n",
    "\n",
    "    # Setter for category\n",
    "    def set_category(self, category):\n",
    "        self.__category = category\n",
    "\n",
    "    def display_info(self):\n",
    "        print(f\"ID: {self.__id}\")\n",
    "        print(f\"Name: {self.__name}\")\n",
    "        print(f\"Description: {self.__description}\")\n",
    "        print(f\"Price: ${self.__price:.2f}\")\n",
    "        print(f\"Category: {self.__category}\")\n",
    "\n",
    "class FoodItem(MenuItem):\n",
    "    def __init__(self, name, description, price, cuisine_type):\n",
    "        super().__init__(name, description, price, category=\"Food\")\n",
    "        self.__cuisine_type = cuisine_type\n",
    "\n",
    "    # Getter for cuisine type\n",
    "    def get_cuisine_type(self):\n",
    "        return self.__cuisine_type\n",
    "\n",
    "    # Setter for cuisine type\n",
    "    def set_cuisine_type(self, cuisine_type):\n",
    "        self.__cuisine_type = cuisine_type\n",
    "\n",
    "    def display_info(self):\n",
    "        super().display_info()\n",
    "        print(f\"Cuisine Type: {self.__cuisine_type}\")\n",
    "\n",
    "class BeverageItem(MenuItem):\n",
    "    def __init__(self, name, description, price, volume):\n",
    "        super().__init__(name, description, price, category=\"Beverage\")\n",
    "        self.__volume = volume\n",
    "\n",
    "    # Getter for volume\n",
    "    def get_volume(self):\n",
    "        return self.__volume\n",
    "\n",
    "    # Setter for volume\n",
    "    def set_volume(self, volume):\n",
    "        if volume > 0:\n",
    "            self.__volume = volume\n",
    "        else:\n",
    "            print(\"Volume must be a positive value.\")\n",
    "\n",
    "    def display_info(self):\n",
    "        super().display_info()\n",
    "        print(f\"Volume: {self.__volume} ml\")\n",
    "\n",
    "# Test the Restaurant Management System\n",
    "def test_restaurant_management_system():\n",
    "    # Create instances of FoodItem and BeverageItem\n",
    "    pizza = FoodItem(\"Margherita Pizza\", \"Classic cheese pizza with tomato sauce\", 12.99, \"Italian\")\n",
    "    soda = BeverageItem(\"Coke\", \"Carbonated soft drink\", 1.99, 330)\n",
    "\n",
    "    # Display menu item information\n",
    "    print(\"Food Item:\")\n",
    "    pizza.display_info()\n",
    "    print()\n",
    "\n",
    "    print(\"Beverage Item:\")\n",
    "    soda.display_info()\n",
    "\n",
    "# Run the test\n",
    "test_restaurant_management_system()\n"
   ]
  },
  {
   "cell_type": "markdown",
   "id": "31bd9344-a465-4f73-800c-a69b855dbfdf",
   "metadata": {},
   "source": [
    "# 7.Write a code for Hotel Management System using OOPS \n",
    "* Create a Room class that has attributes such as room number, room type, rate, and availability (private)\n",
    "* Implement methods to book a room, check in a guest, and check out a guest\n",
    "* Use encapsulation to hide the room's unique identification number\n",
    "* Inherit from the Room class to create a SuiteRoom class and a StandardRoom class, each with their own specific attributes and methods.\n"
   ]
  },
  {
   "cell_type": "code",
   "execution_count": 15,
   "id": "5443fb8d-91c9-4fb2-8c7c-01f3c7586b56",
   "metadata": {},
   "outputs": [
    {
     "name": "stdout",
     "output_type": "stream",
     "text": [
      "Suite Room:\n",
      "Room Number: 101\n",
      "Room Type: Suite\n",
      "Rate: $250.00 per night\n",
      "Status: Available\n",
      "Lounge Access: Yes\n",
      "\n",
      "Standard Room:\n",
      "Room Number: 102\n",
      "Room Type: Standard\n",
      "Rate: $150.00 per night\n",
      "Status: Available\n",
      "Breakfast Included: Yes\n",
      "\n",
      "Room 101 has been booked.\n",
      "Guest checked in to room 101.\n",
      "\n",
      "Room 101 is already booked.\n",
      "\n",
      "Guest checked out of room 101.\n",
      "\n",
      "Updated Room Information:\n",
      "Room Number: 101\n",
      "Room Type: Suite\n",
      "Rate: $250.00 per night\n",
      "Status: Available\n",
      "Lounge Access: Yes\n",
      "\n",
      "Room Number: 102\n",
      "Room Type: Standard\n",
      "Rate: $150.00 per night\n",
      "Status: Available\n",
      "Breakfast Included: Yes\n"
     ]
    }
   ],
   "source": [
    "class Room:\n",
    "    def __init__(self, room_number, room_type, rate):\n",
    "        self.__id = Room.__generate_id()  # Unique identifier for each room\n",
    "        self.__room_number = room_number\n",
    "        self.__room_type = room_type\n",
    "        self.__rate = rate\n",
    "        self.__is_available = True\n",
    "\n",
    "    @staticmethod\n",
    "    def __generate_id():\n",
    "        # A simple ID generator for demonstration purposes\n",
    "        from uuid import uuid4\n",
    "        return str(uuid4())\n",
    "\n",
    "    # Getter for room ID\n",
    "    def get_id(self):\n",
    "        return self.__id\n",
    "\n",
    "    # Getter for room number\n",
    "    def get_room_number(self):\n",
    "        return self.__room_number\n",
    "\n",
    "    # Getter for room type\n",
    "    def get_room_type(self):\n",
    "        return self.__room_type\n",
    "\n",
    "    # Getter for rate\n",
    "    def get_rate(self):\n",
    "        return self.__rate\n",
    "\n",
    "    # Setter for rate\n",
    "    def set_rate(self, rate):\n",
    "        if rate >= 0:\n",
    "            self.__rate = rate\n",
    "        else:\n",
    "            print(\"Rate must be a non-negative value.\")\n",
    "\n",
    "    # Getter for availability\n",
    "    def is_available(self):\n",
    "        return self.__is_available\n",
    "\n",
    "    # Method to book the room\n",
    "    def book_room(self):\n",
    "        if self.__is_available:\n",
    "            self.__is_available = False\n",
    "            print(f\"Room {self.__room_number} has been booked.\")\n",
    "        else:\n",
    "            print(f\"Room {self.__room_number} is already booked.\")\n",
    "\n",
    "    # Method to check in a guest\n",
    "    def check_in(self):\n",
    "        if not self.__is_available:\n",
    "            print(f\"Guest checked in to room {self.__room_number}.\")\n",
    "        else:\n",
    "            print(f\"Room {self.__room_number} is available. Book it first.\")\n",
    "\n",
    "    # Method to check out a guest\n",
    "    def check_out(self):\n",
    "        if not self.__is_available:\n",
    "            self.__is_available = True\n",
    "            print(f\"Guest checked out of room {self.__room_number}.\")\n",
    "        else:\n",
    "            print(f\"Room {self.__room_number} is already available.\")\n",
    "\n",
    "    def display_info(self):\n",
    "        status = \"Available\" if self.__is_available else \"Not Available\"\n",
    "        print(f\"Room Number: {self.__room_number}\")\n",
    "        print(f\"Room Type: {self.__room_type}\")\n",
    "        print(f\"Rate: ${self.__rate:.2f} per night\")\n",
    "        print(f\"Status: {status}\")\n",
    "\n",
    "class SuiteRoom(Room):\n",
    "    def __init__(self, room_number, rate, has_lounge_access):\n",
    "        super().__init__(room_number, \"Suite\", rate)\n",
    "        self.__has_lounge_access = has_lounge_access\n",
    "\n",
    "    # Getter for lounge access\n",
    "    def has_lounge_access(self):\n",
    "        return self.__has_lounge_access\n",
    "\n",
    "    # Setter for lounge access\n",
    "    def set_lounge_access(self, access):\n",
    "        self.__has_lounge_access = access\n",
    "\n",
    "    def display_info(self):\n",
    "        super().display_info()\n",
    "        lounge_access = \"Yes\" if self.__has_lounge_access else \"No\"\n",
    "        print(f\"Lounge Access: {lounge_access}\")\n",
    "\n",
    "class StandardRoom(Room):\n",
    "    def __init__(self, room_number, rate, has_breakfast_included):\n",
    "        super().__init__(room_number, \"Standard\", rate)\n",
    "        self.__has_breakfast_included = has_breakfast_included\n",
    "\n",
    "    # Getter for breakfast included\n",
    "    def has_breakfast_included(self):\n",
    "        return self.__has_breakfast_included\n",
    "\n",
    "    # Setter for breakfast included\n",
    "    def set_breakfast_included(self, included):\n",
    "        self.__has_breakfast_included = included\n",
    "\n",
    "    def display_info(self):\n",
    "        super().display_info()\n",
    "        breakfast_included = \"Yes\" if self.__has_breakfast_included else \"No\"\n",
    "        print(f\"Breakfast Included: {breakfast_included}\")\n",
    "\n",
    "# Test the Hotel Management System\n",
    "def test_hotel_management_system():\n",
    "    # Create instances of SuiteRoom and StandardRoom\n",
    "    suite_room = SuiteRoom(101, 250.00, has_lounge_access=True)\n",
    "    standard_room = StandardRoom(102, 150.00, has_breakfast_included=True)\n",
    "\n",
    "    # Display room information\n",
    "    print(\"Suite Room:\")\n",
    "    suite_room.display_info()\n",
    "    print()\n",
    "\n",
    "    print(\"Standard Room:\")\n",
    "    standard_room.display_info()\n",
    "    print()\n",
    "\n",
    "    # Book and check in the suite room\n",
    "    suite_room.book_room()\n",
    "    suite_room.check_in()\n",
    "    print()\n",
    "\n",
    "    # Try to book the suite room again\n",
    "    suite_room.book_room()\n",
    "    print()\n",
    "\n",
    "    # Check out the suite room\n",
    "    suite_room.check_out()\n",
    "    print()\n",
    "\n",
    "    # Display updated room information\n",
    "    print(\"Updated Room Information:\")\n",
    "    suite_room.display_info()\n",
    "    print()\n",
    "    standard_room.display_info()\n",
    "\n",
    "# Run the test\n",
    "test_hotel_management_system()\n"
   ]
  },
  {
   "cell_type": "markdown",
   "id": "bea821a6-18ad-454d-80c1-ebc7c446adce",
   "metadata": {},
   "source": [
    "# 8.Write a code for Fitness Club Management System using OOPS\n",
    "* Create a Member class that has attributes such as name, age, membership type, and membership status (private)\n",
    "* Implement methods to register a new member, renew a membership, and cancel a membership\n",
    "* Use encapsulation to hide the member's unique identification number5\n",
    "* Inherit from the Member class to create a FamilyMember class and an IndividualMember class, each with their own specific attributes and methods\n"
   ]
  },
  {
   "cell_type": "code",
   "execution_count": 17,
   "id": "ed398478-00d2-434a-b6f8-10bb37885aa3",
   "metadata": {},
   "outputs": [
    {
     "name": "stdout",
     "output_type": "stream",
     "text": [
      "Member John Doe registered with ID: 30183\n",
      "{'Name': 'John Doe', 'Age': 30, 'Membership Type': 'Family', 'Membership Status': 'Active', 'Family Name': 'Doe Family'}\n",
      "Member Jane Smith registered with ID: 70857\n",
      "{'Name': 'Jane Smith', 'Age': 25, 'Membership Type': 'Individual', 'Membership Status': 'Active', 'Personal Trainer': 'Trainer A'}\n",
      "Membership for John Doe has been renewed.\n",
      "Membership for John Doe has been cancelled.\n",
      "{'Name': 'John Doe', 'Age': 30, 'Membership Type': 'Family', 'Membership Status': 'Cancelled'}\n"
     ]
    }
   ],
   "source": [
    "class Member:\n",
    "    def __init__(self, name, age, membership_type):\n",
    "        self.__name = name\n",
    "        self.__age = age\n",
    "        self.__membership_type = membership_type\n",
    "        self.__membership_status = 'Active'\n",
    "        self.__id = self.__generate_id()\n",
    "\n",
    "    def __generate_id(self):\n",
    "        import random\n",
    "        return random.randint(10000, 99999)\n",
    "\n",
    "    def register_member(self):\n",
    "        return f\"Member {self.__name} registered with ID: {self.__id}\"\n",
    "\n",
    "    def renew_membership(self):\n",
    "        self.__membership_status = 'Active'\n",
    "        return f\"Membership for {self.__name} has been renewed.\"\n",
    "\n",
    "    def cancel_membership(self):\n",
    "        self.__membership_status = 'Cancelled'\n",
    "        return f\"Membership for {self.__name} has been cancelled.\"\n",
    "\n",
    "    def get_member_details(self):\n",
    "        return {\n",
    "            \"Name\": self.__name,\n",
    "            \"Age\": self.__age,\n",
    "            \"Membership Type\": self.__membership_type,\n",
    "            \"Membership Status\": self.__membership_status\n",
    "        }\n",
    "\n",
    "    # Encapsulation for ID (getter method)\n",
    "    def get_id(self):\n",
    "        return self.__id\n",
    "\n",
    "class FamilyMember(Member):\n",
    "    def __init__(self, name, age, membership_type, family_name):\n",
    "        super().__init__(name, age, membership_type)\n",
    "        self.family_name = family_name\n",
    "\n",
    "    def get_family_details(self):\n",
    "        member_details = self.get_member_details()\n",
    "        member_details[\"Family Name\"] = self.family_name\n",
    "        return member_details\n",
    "\n",
    "class IndividualMember(Member):\n",
    "    def __init__(self, name, age, membership_type, personal_trainer):\n",
    "        super().__init__(name, age, membership_type)\n",
    "        self.personal_trainer = personal_trainer\n",
    "\n",
    "    def get_individual_details(self):\n",
    "        member_details = self.get_member_details()\n",
    "        member_details[\"Personal Trainer\"] = self.personal_trainer\n",
    "        return member_details\n",
    "\n",
    "if __name__ == \"__main__\":\n",
    "    member1 = FamilyMember(\"John Doe\", 30, \"Family\", \"Doe Family\")\n",
    "    print(member1.register_member())\n",
    "    print(member1.get_family_details())\n",
    "    \n",
    "    member2 = IndividualMember(\"Jane Smith\", 25, \"Individual\", \"Trainer A\")\n",
    "    print(member2.register_member())\n",
    "    print(member2.get_individual_details())\n",
    "    \n",
    "    print(member1.renew_membership())\n",
    "    print(member1.cancel_membership())\n",
    "    print(member1.get_member_details())\n"
   ]
  },
  {
   "cell_type": "markdown",
   "id": "c6720ec1-d0b3-4c52-b8ea-b2b40461d704",
   "metadata": {},
   "source": [
    "# 9.Write a code for Event Management System using OOPS\n",
    "* Create an Event class that has attributes such as name, date, time, location, and list of attendees (private)\n",
    "* Implement methods to create a new event, add or remove attendees, and get the total number of attendees\n",
    "* Use encapsulation to hide the event's unique identification number\n",
    "* Inherit from the Event class to create a PrivateEvent class and a PublicEvent class, each with their own specific attributes and methods.\n"
   ]
  },
  {
   "cell_type": "code",
   "execution_count": 26,
   "id": "04d23d0d-38a3-47d4-a269-50fa87712579",
   "metadata": {},
   "outputs": [
    {
     "name": "stdout",
     "output_type": "stream",
     "text": [
      "Event 'Board Meeting' created with ID: 90733\n",
      "Attendee 'jia' added to event 'Board Meeting'.\n",
      "{'Name': 'Board Meeting', 'Date': '2024-08-01', 'Time': '10:00 AM', 'Location': 'Conference Room', 'Total Attendees': 1, 'Invite Only': True}\n",
      "Event 'Tech Conference' created with ID: 15976\n",
      "Attendee 'daizy' added to event 'Tech Conference'.\n",
      "{'Name': 'Tech Conference', 'Date': '2024-08-15', 'Time': '9:00 AM', 'Location': 'Main Hall', 'Total Attendees': 1, 'Max Capacity': 500}\n",
      "Attendee 'Jia' not found in event 'Board Meeting'.\n",
      "{'Name': 'Board Meeting', 'Date': '2024-08-01', 'Time': '10:00 AM', 'Location': 'Conference Room', 'Total Attendees': 1}\n"
     ]
    }
   ],
   "source": [
    "class Event:\n",
    "    def __init__(self, name, date, time, location):\n",
    "        self.__name = name\n",
    "        self.__date = date\n",
    "        self.__time = time\n",
    "        self.__location = location\n",
    "        self.__attendees = []\n",
    "        self.__id = self.__generate_id()\n",
    "\n",
    "    def __generate_id(self):\n",
    "        import random\n",
    "        return random.randint(10000, 99999)\n",
    "\n",
    "    def create_event(self):\n",
    "        return f\"Event '{self.__name}' created with ID: {self.__id}\"\n",
    "\n",
    "    def add_attendee(self, attendee):\n",
    "        self.__attendees.append(attendee)\n",
    "        return f\"Attendee '{attendee}' added to event '{self.__name}'.\"\n",
    "\n",
    "    def remove_attendee(self, attendee):\n",
    "        if attendee in self.__attendees:\n",
    "            self.__attendees.remove(attendee)\n",
    "            return f\"Attendee '{attendee}' removed from event '{self.__name}'.\"\n",
    "        else:\n",
    "            return f\"Attendee '{attendee}' not found in event '{self.__name}'.\"\n",
    "\n",
    "    def get_total_attendees(self):\n",
    "        return len(self.__attendees)\n",
    "\n",
    "    def get_event_details(self):\n",
    "        return {\n",
    "            \"Name\": self.__name,\n",
    "            \"Date\": self.__date,\n",
    "            \"Time\": self.__time,\n",
    "            \"Location\": self.__location,\n",
    "            \"Total Attendees\": self.get_total_attendees()\n",
    "        }\n",
    "\n",
    "    # Encapsulation for ID (getter method)\n",
    "    def get_id(self):\n",
    "        return self.__id\n",
    "\n",
    "class PrivateEvent(Event):\n",
    "    def __init__(self, name, date, time, location, invite_only):\n",
    "        super().__init__(name, date, time, location)\n",
    "        self.invite_only = invite_only\n",
    "\n",
    "    def get_private_event_details(self):\n",
    "        event_details = self.get_event_details()\n",
    "        event_details[\"Invite Only\"] = self.invite_only\n",
    "        return event_details\n",
    "\n",
    "class PublicEvent(Event):\n",
    "    def __init__(self, name, date, time, location, max_capacity):\n",
    "        super().__init__(name, date, time, location)\n",
    "        self.max_capacity = max_capacity\n",
    "\n",
    "    def get_public_event_details(self):\n",
    "        event_details = self.get_event_details()\n",
    "        event_details[\"Max Capacity\"] = self.max_capacity\n",
    "        return event_details\n",
    "\n",
    "# Example Usage\n",
    "if __name__ == \"__main__\":\n",
    "    private_event = PrivateEvent(\"Board Meeting\", \"2024-08-01\", \"10:00 AM\", \"Conference Room\", True)\n",
    "    print(private_event.create_event())\n",
    "    print(private_event.add_attendee(\"jia\"))\n",
    "    print(private_event.get_private_event_details())\n",
    "    \n",
    "    public_event = PublicEvent(\"Tech Conference\", \"2024-08-15\", \"9:00 AM\", \"Main Hall\", 500)\n",
    "    print(public_event.create_event())\n",
    "    print(public_event.add_attendee(\"daizy\"))\n",
    "    print(public_event.get_public_event_details())\n",
    "    \n",
    "    print(private_event.remove_attendee(\"Jia\"))\n",
    "    print(private_event.get_event_details())\n"
   ]
  },
  {
   "cell_type": "markdown",
   "id": "2883671a-9f04-4265-a121-1d59cf0586ff",
   "metadata": {},
   "source": [
    "# 10.Write a code for Airline Reservation System using OOPS\n",
    "* Create a Flight class that has attributes such as flight number, departure and arrival airports, departure and arrival times, and available seats (private)\n",
    "* Implement methods to book a seat, cancel a reservation, and get the remaining available seats\n",
    "* Use encapsulation to hide the flight's unique identification number\n",
    "* Inherit from the Flight class to create a DomesticFlight class and an InternationalFlight class, each with their own specific attributes and methods."
   ]
  },
  {
   "cell_type": "code",
   "execution_count": 20,
   "id": "04230925-a0db-4666-bae4-097cfd462519",
   "metadata": {},
   "outputs": [
    {
     "name": "stdout",
     "output_type": "stream",
     "text": [
      "Seat booked on flight AA123. Remaining seats: 99\n",
      "{'Flight Number': 'AA123', 'Departure Airport': 'JFK', 'Arrival Airport': 'LAX', 'Departure Time': '2024-08-01 08:00', 'Arrival Time': '2024-08-01 11:00', 'Available Seats': 99, 'Domestic Airline': 'American Airlines'}\n",
      "Seat booked on flight BA456. Remaining seats: 199\n",
      "{'Flight Number': 'BA456', 'Departure Airport': 'LAX', 'Arrival Airport': 'LHR', 'Departure Time': '2024-08-01 15:00', 'Arrival Time': '2024-08-02 07:00', 'Available Seats': 199, 'Passport Required': True}\n",
      "Reservation cancelled on flight AA123. Available seats: 100\n",
      "100\n"
     ]
    }
   ],
   "source": [
    "class Flight:\n",
    "    def __init__(self, flight_number, departure_airport, arrival_airport, departure_time, arrival_time, total_seats):\n",
    "        self.__flight_number = flight_number\n",
    "        self.__departure_airport = departure_airport\n",
    "        self.__arrival_airport = arrival_airport\n",
    "        self.__departure_time = departure_time\n",
    "        self.__arrival_time = arrival_time\n",
    "        self.__available_seats = total_seats\n",
    "        self.__id = self.__generate_id()\n",
    "\n",
    "    def __generate_id(self):\n",
    "        import random\n",
    "        return random.randint(10000, 99999)\n",
    "\n",
    "    def book_seat(self):\n",
    "        if self.__available_seats > 0:\n",
    "            self.__available_seats -= 1\n",
    "            return f\"Seat booked on flight {self.__flight_number}. Remaining seats: {self.__available_seats}\"\n",
    "        else:\n",
    "            return \"No available seats.\"\n",
    "\n",
    "    def cancel_reservation(self):\n",
    "        self.__available_seats += 1\n",
    "        return f\"Reservation cancelled on flight {self.__flight_number}. Available seats: {self.__available_seats}\"\n",
    "\n",
    "    def get_remaining_seats(self):\n",
    "        return self.__available_seats\n",
    "\n",
    "    def get_flight_details(self):\n",
    "        return {\n",
    "            \"Flight Number\": self.__flight_number,\n",
    "            \"Departure Airport\": self.__departure_airport,\n",
    "            \"Arrival Airport\": self.__arrival_airport,\n",
    "            \"Departure Time\": self.__departure_time,\n",
    "            \"Arrival Time\": self.__arrival_time,\n",
    "            \"Available Seats\": self.__available_seats\n",
    "        }\n",
    "\n",
    "    # Encapsulation for ID (getter method)\n",
    "    def get_id(self):\n",
    "        return self.__id\n",
    "\n",
    "class DomesticFlight(Flight):\n",
    "    def __init__(self, flight_number, departure_airport, arrival_airport, departure_time, arrival_time, total_seats, domestic_airline):\n",
    "        super().__init__(flight_number, departure_airport, arrival_airport, departure_time, arrival_time, total_seats)\n",
    "        self.domestic_airline = domestic_airline\n",
    "\n",
    "    def get_domestic_flight_details(self):\n",
    "        flight_details = self.get_flight_details()\n",
    "        flight_details[\"Domestic Airline\"] = self.domestic_airline\n",
    "        return flight_details\n",
    "\n",
    "class InternationalFlight(Flight):\n",
    "    def __init__(self, flight_number, departure_airport, arrival_airport, departure_time, arrival_time, total_seats, passport_required):\n",
    "        super().__init__(flight_number, departure_airport, arrival_airport, departure_time, arrival_time, total_seats)\n",
    "        self.passport_required = passport_required\n",
    "\n",
    "    def get_international_flight_details(self):\n",
    "        flight_details = self.get_flight_details()\n",
    "        flight_details[\"Passport Required\"] = self.passport_required\n",
    "        return flight_details\n",
    "\n",
    "# Example Usage\n",
    "if __name__ == \"__main__\":\n",
    "    domestic_flight = DomesticFlight(\"AA123\", \"JFK\", \"LAX\", \"2024-08-01 08:00\", \"2024-08-01 11:00\", 100, \"American Airlines\")\n",
    "    print(domestic_flight.book_seat())\n",
    "    print(domestic_flight.get_domestic_flight_details())\n",
    "    \n",
    "    international_flight = InternationalFlight(\"BA456\", \"LAX\", \"LHR\", \"2024-08-01 15:00\", \"2024-08-02 07:00\", 200, True)\n",
    "    print(international_flight.book_seat())\n",
    "    print(international_flight.get_international_flight_details())\n",
    "    \n",
    "    print(domestic_flight.cancel_reservation())\n",
    "    print(domestic_flight.get_remaining_seats())\n"
   ]
  },
  {
   "cell_type": "code",
   "execution_count": null,
   "id": "8f182709-e6f5-4eec-96ee-24d3e8d62645",
   "metadata": {},
   "outputs": [],
   "source": []
  },
  {
   "cell_type": "markdown",
   "id": "13d0dbe6-4cfa-421d-9210-8166d9bc06e4",
   "metadata": {},
   "source": [
    "# 14. Implement a Python module named string_utils.py containing functions for string manipulation, such as reversing and capitalizing strings."
   ]
  },
  {
   "cell_type": "code",
   "execution_count": 22,
   "id": "9edd904b-ad50-4967-abab-b9d2460116db",
   "metadata": {},
   "outputs": [
    {
     "name": "stdout",
     "output_type": "stream",
     "text": [
      "Reversed: yziad\n",
      "Capitalized: Daizy Gupta\n",
      "Uppercase: DAIZY\n",
      "Lowercase: daizy\n",
      "Vowel count: 4\n"
     ]
    }
   ],
   "source": [
    "import string_utils\n",
    "\n",
    "reversed_str = string_utils.reverse_string(\"daizy\")\n",
    "print(f\"Reversed: {reversed_str}\")\n",
    "\n",
    "capitalized_str = string_utils.capitalize_string(\"daizy gupta\")\n",
    "print(f\"Capitalized: {capitalized_str}\")\n",
    "\n",
    "upper_str = string_utils.to_upper(\"daizy\")\n",
    "print(f\"Uppercase: {upper_str}\")\n",
    "\n",
    "lower_str = string_utils.to_lower(\"DAIZY\")\n",
    "print(f\"Lowercase: {lower_str}\")\n",
    "\n",
    "vowel_count = string_utils.count_vowels(\"DAIZY gupta\")\n",
    "print(f\"Vowel count: {vowel_count}\")"
   ]
  },
  {
   "cell_type": "markdown",
   "id": "fb3d87fe-56c5-4835-8721-4b87e5414279",
   "metadata": {},
   "source": [
    "# 16. Write a Python program to create a text file named \"employees.txt\" and write the details of employees, including their name, age, and salary, into the file."
   ]
  },
  {
   "cell_type": "code",
   "execution_count": 23,
   "id": "aaf04c73-21c6-4e88-a30d-ab7ec62ea0c4",
   "metadata": {},
   "outputs": [
    {
     "name": "stdout",
     "output_type": "stream",
     "text": [
      "Employee details written to employees.txt\n"
     ]
    }
   ],
   "source": [
    "import file_operations\n",
    "\n",
    "def create_employees_file():\n",
    "    file_path = 'employees.txt'\n",
    "    employees = [\n",
    "        {'name': 'Daizy', 'age': 30, 'salary': 1500000},\n",
    "        {'name': 'Janvi', 'age': 25, 'salary': 165000},\n",
    "        {'name': 'jia', 'age': 35, 'salary': 1250000}\n",
    "    ]\n",
    "\n",
    "    data = \"\"\n",
    "    for emp in employees:\n",
    "        emp_details = f\"Name: {emp['name']}, Age: {emp['age']}, Salary: {emp['salary']}\\n\"\n",
    "        data += emp_details\n",
    "\n",
    "    file_operations.write_to_file(file_path, data)\n",
    "    print(\"Employee details written to employees.txt\")\n",
    "\n",
    "if __name__ == \"__main__\":\n",
    "    create_employees_file()\n"
   ]
  },
  {
   "cell_type": "markdown",
   "id": "3d511f84-7497-4ab2-b669-934ea5c206ee",
   "metadata": {},
   "source": [
    "# 17. Develop a Python script that opens an existing text file named \"inventory.txt\" in read mode and displays the contents of the file line by line."
   ]
  },
  {
   "cell_type": "code",
   "execution_count": 25,
   "id": "1fc4109a-cc30-49c4-916d-672dffc87d03",
   "metadata": {},
   "outputs": [
    {
     "name": "stdout",
     "output_type": "stream",
     "text": [
      "Question 17\n",
      "Develop a Python script that opens an existing text file named \"inventory.txt\" in read mode\n",
      "and displays the contents of the file line by line.\n",
      "file name is inventory.txt\n",
      "end of file "
     ]
    }
   ],
   "source": [
    "import file_operations\n",
    "\n",
    "def display_inventory(file_path):\n",
    "    try:\n",
    "        content = file_operations.read_from_file(file_path)\n",
    "        for line in content.splitlines():\n",
    "            print(line)\n",
    "    except FileNotFoundError:\n",
    "        print(f\"The file {file_path} does not exist.\")\n",
    "\n",
    "if __name__ == \"__main__\":\n",
    "    file_path = 'inventory.txt'\n",
    "    display_inventory(file_path)\n"
   ]
  },
  {
   "cell_type": "markdown",
   "id": "6108d44f-b260-4571-977d-d2b107e517c1",
   "metadata": {},
   "source": [
    "# 18. Create a Python script that reads a text file named \"expenses.txt\" and calculates the total amount spent on various expenses listed in the file."
   ]
  },
  {
   "cell_type": "code",
   "execution_count": 32,
   "id": "7d8c246d-e333-4fdd-ab2a-5b8bba6bac71",
   "metadata": {},
   "outputs": [
    {
     "name": "stdout",
     "output_type": "stream",
     "text": [
      "Total expenses: Rs5200.00\n"
     ]
    }
   ],
   "source": [
    "import file_operations\n",
    "\n",
    "def calculate_total_expenses(file_path):\n",
    "    total_expenses = 0.0\n",
    "\n",
    "    try:\n",
    "        content = file_operations.read_from_file(file_path)\n",
    "        for line in content.splitlines():\n",
    "            try:\n",
    "                expense = float(line.strip())\n",
    "                total_expenses += expense\n",
    "            except ValueError:\n",
    "                print(f\"Invalid expense value: {line.strip()}\")\n",
    "    except FileNotFoundError:\n",
    "        print(f\"The file {file_path} does not exist.\")\n",
    "        return None\n",
    "\n",
    "    return total_expenses\n",
    "\n",
    "if __name__ == \"__main__\":\n",
    "    file_path = 'expenses.txt'\n",
    "    total_expenses = calculate_total_expenses(file_path)\n",
    "    if total_expenses is not None:\n",
    "        print(f\"Total expenses: Rs{total_expenses:.2f}\")\n"
   ]
  },
  {
   "cell_type": "markdown",
   "id": "854ffc7a-e86e-47c4-b1ec-4d21bf20a25e",
   "metadata": {},
   "source": [
    "# 19. Create a Python program that reads a text file named \"paragraph.txt\" and counts the occurrences of each word in the paragraph, displaying the results in alphabetical order."
   ]
  },
  {
   "cell_type": "code",
   "execution_count": 36,
   "id": "c39856a7-d9a9-416f-9b37-f7a05b3bd214",
   "metadata": {},
   "outputs": [
    {
     "name": "stdout",
     "output_type": "stream",
     "text": [
      "are: 1\n",
      "hello: 4\n",
      "hi: 4\n",
      "how: 1\n",
      "you: 1\n"
     ]
    }
   ],
   "source": [
    "from collections import Counter\n",
    "import string\n",
    "\n",
    "def count_words(file_path):\n",
    "    try:\n",
    "        with open(file_path, 'r') as file:\n",
    "            content = file.read().lower()\n",
    "            translator = str.maketrans('', '', string.punctuation)\n",
    "            cleaned_content = content.translate(translator)\n",
    "            words = cleaned_content.split()\n",
    "            word_counts = Counter(words)\n",
    "            \n",
    "            sorted_word_counts = sorted(word_counts.items())\n",
    "            \n",
    "            for word, count in sorted_word_counts:\n",
    "                print(f\"{word}: {count}\")\n",
    "    \n",
    "    except FileNotFoundError:\n",
    "        print(f\"The file {file_path} does not exist.\")\n",
    "\n",
    "if __name__ == \"__main__\":\n",
    "    file_path = 'paragraph.txt'\n",
    "    count_words(file_path)\n"
   ]
  }
 ],
 "metadata": {
  "kernelspec": {
   "display_name": "Python 3 (ipykernel)",
   "language": "python",
   "name": "python3"
  },
  "language_info": {
   "codemirror_mode": {
    "name": "ipython",
    "version": 3
   },
   "file_extension": ".py",
   "mimetype": "text/x-python",
   "name": "python",
   "nbconvert_exporter": "python",
   "pygments_lexer": "ipython3",
   "version": "3.10.8"
  }
 },
 "nbformat": 4,
 "nbformat_minor": 5
}
