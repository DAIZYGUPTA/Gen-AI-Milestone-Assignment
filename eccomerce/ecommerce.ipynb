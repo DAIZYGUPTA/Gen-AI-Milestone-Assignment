{
 "cells": [
  {
   "cell_type": "markdown",
   "id": "73ce38df-da32-4373-b76c-9df35f063e6a",
   "metadata": {},
   "source": [
    "# 13. Implement a Python package structure for a project named ecommerce, containing modules for product management and order processing."
   ]
  },
  {
   "cell_type": "code",
   "execution_count": 1,
   "id": "28774b4e-92ef-41bb-9c7c-43a0df382910",
   "metadata": {},
   "outputs": [],
   "source": [
    "import os\n"
   ]
  },
  {
   "cell_type": "code",
   "execution_count": 2,
   "id": "9561a492-dd61-4f80-a588-e3c1dd98c2a4",
   "metadata": {},
   "outputs": [],
   "source": [
    "# Define the directory structure\n",
    "dirs = [\n",
    "    'ecommerce',\n",
    "    'ecommerce/product_management',\n",
    "    'ecommerce/order_processing',\n",
    "    'ecommerce/utils',\n",
    "    'tests'\n",
    "]\n"
   ]
  },
  {
   "cell_type": "code",
   "execution_count": 3,
   "id": "a756aa87-4f19-4abc-af22-34912b99df95",
   "metadata": {},
   "outputs": [],
   "source": [
    "# Create the directories\n",
    "for dir in dirs:\n",
    "    os.makedirs(dir, exist_ok=True)"
   ]
  },
  {
   "cell_type": "code",
   "execution_count": 4,
   "id": "24151f16-c56a-48c2-9c53-08643bae84db",
   "metadata": {},
   "outputs": [],
   "source": [
    "# Create __init__.py in ecommerce directory\n",
    "with open('ecommerce/__init__.py', 'w') as f:\n",
    "    f.write('# This file makes the directory a package.\\n')\n",
    "\n",
    "# Create __init__.py in product_management directory\n",
    "with open('ecommerce/product_management/__init__.py', 'w') as f:\n",
    "    f.write('# This file makes the directory a package.\\n')\n",
    "\n",
    "# Create __init__.py in order_processing directory\n",
    "with open('ecommerce/order_processing/__init__.py', 'w') as f:\n",
    "    f.write('# This file makes the directory a package.\\n')\n",
    "\n",
    "# Create __init__.py in utils directory\n",
    "with open('ecommerce/utils/__init__.py', 'w') as f:\n",
    "    f.write('# This file makes the directory a package.\\n')\n",
    "\n",
    "# Create __init__.py in tests directory\n",
    "with open('tests/__init__.py', 'w') as f:\n",
    "    f.write('# This file makes the directory a package.\\n')\n"
   ]
  },
  {
   "cell_type": "code",
   "execution_count": 5,
   "id": "cdb15382-58cb-4b75-8754-b9f4a4549b7f",
   "metadata": {},
   "outputs": [],
   "source": [
    "# product.py in product_management directory\n",
    "product_code = '''\n",
    "class Product:\n",
    "    def __init__(self, product_id, name, price):\n",
    "        self.product_id = product_id\n",
    "        self.name = name\n",
    "        self.price = price\n",
    "\n",
    "    def __str__(self):\n",
    "        return f'Product({self.product_id}, {self.name}, {self.price})'\n",
    "'''\n",
    "with open('ecommerce/product_management/product.py', 'w') as f:\n",
    "    f.write(product_code)\n",
    "\n",
    "# inventory.py in product_management directory\n",
    "inventory_code = '''\n",
    "# inventory.py - add inventory related code here\n",
    "'''\n",
    "with open('ecommerce/product_management/inventory.py', 'w') as f:\n",
    "    f.write(inventory_code)\n",
    "\n",
    "# order.py in order_processing directory\n",
    "order_code = '''\n",
    "class Order:\n",
    "    def __init__(self, order_id, product, quantity):\n",
    "        self.order_id = order_id\n",
    "        self.product = product\n",
    "        self.quantity = quantity\n",
    "\n",
    "    def __str__(self):\n",
    "        return f'Order({self.order_id}, {self.product}, {self.quantity})'\n",
    "'''\n",
    "with open('ecommerce/order_processing/order.py', 'w') as f:\n",
    "    f.write(order_code)\n",
    "\n",
    "# payment.py in order_processing directory\n",
    "payment_code = '''\n",
    "# payment.py - add payment related code here\n",
    "'''\n",
    "with open('ecommerce/order_processing/payment.py', 'w') as f:\n",
    "    f.write(payment_code)\n",
    "\n",
    "# helpers.py in utils directory\n",
    "helpers_code = '''\n",
    "# helpers.py - add helper functions here\n",
    "'''\n",
    "with open('ecommerce/utils/helpers.py', 'w') as f:\n",
    "    f.write(helpers_code)\n"
   ]
  },
  {
   "cell_type": "code",
   "execution_count": 6,
   "id": "9d611a54-a09d-4c09-b729-19d054e3c29e",
   "metadata": {},
   "outputs": [],
   "source": [
    "setup_code = '''\n",
    "from setuptools import setup, find_packages\n",
    "\n",
    "setup(\n",
    "    name='ecommerce',\n",
    "    version='0.1',\n",
    "    packages=find_packages(include=['ecommerce', 'ecommerce.*']),\n",
    "    install_requires=[],\n",
    "    description='A package for managing an e-commerce system',\n",
    "    author='Daizy',\n",
    "    author_email='guptadaizy2495@gmail.com',\n",
    "    url='https://github.com/DAIZYGUPTA/Gen-AI-Milestone-Assignment',\n",
    ")\n",
    "'''\n",
    "with open('setup.py', 'w') as f:\n",
    "    f.write(setup_code)\n"
   ]
  },
  {
   "cell_type": "code",
   "execution_count": 9,
   "id": "e19160a8-6ef5-40bd-a639-99ed09efc899",
   "metadata": {},
   "outputs": [],
   "source": [
    "readme_code = '''\n",
    "# Ecommerce Package\n",
    "\n",
    "This package provides functionality for managing products and processing orders in an e-commerce system.\n",
    "\n",
    "## Modules\n",
    "\n",
    "- `product_management`: Contains classes for managing products and inventory.\n",
    "- `order_processing`: Handles order creation and payment processing.\n",
    "\n",
    "## Installation\n",
    "\n",
    "To install the package, run:\n",
    "\n",
    "```bash\n",
    "pip install .\n",
    "'''\n",
    "with open('README.md', 'w') as f:\n",
    "    f.write(readme_code)"
   ]
  },
  {
   "cell_type": "code",
   "execution_count": 10,
   "id": "74a6d7c7-ccc8-4a9c-a027-91674f5b356e",
   "metadata": {},
   "outputs": [],
   "source": [
    "# test_product_management.py in tests directory\n",
    "test_product_management_code = '''\n",
    "import unittest\n",
    "from ecommerce.product_management.product import Product\n",
    "\n",
    "class TestProduct(unittest.TestCase):\n",
    "    def test_product_creation(self):\n",
    "        product = Product(1, 'Sample Product', 19.99)\n",
    "        self.assertEqual(product.product_id, 1)\n",
    "        self.assertEqual(product.name, 'Sample Product')\n",
    "        self.assertEqual(product.price, 19.99)\n",
    "\n",
    "if __name__ == '__main__':\n",
    "    unittest.main()\n",
    "'''\n",
    "with open('tests/test_product_management.py', 'w') as f:\n",
    "    f.write(test_product_management_code)\n",
    "\n",
    "# test_order_processing.py in tests directory\n",
    "test_order_processing_code = '''\n",
    "import unittest\n",
    "from ecommerce.product_management.product import Product\n",
    "from ecommerce.order_processing.order import Order\n",
    "\n",
    "class TestOrder(unittest.TestCase):\n",
    "    def test_order_creation(self):\n",
    "        product = Product(1, 'Sample Product', 19.99)\n",
    "        order = Order(1001, product, 2)\n",
    "        self.assertEqual(order.order_id, 1001)\n",
    "        self.assertEqual(order.product, product)\n",
    "        self.assertEqual(order.quantity, 2)\n",
    "\n",
    "if __name__ == '__main__':\n",
    "    unittest.main()\n",
    "'''\n",
    "with open('tests/test_order_processing.py', 'w') as f:\n",
    "    f.write(test_order_processing_code)\n"
   ]
  },
  {
   "cell_type": "code",
   "execution_count": 16,
   "id": "9d8e03af-f446-4cc6-a930-cf1bc3ae2d0f",
   "metadata": {},
   "outputs": [],
   "source": [
    "from ecommerce.product_management.product import Product\n",
    "from ecommerce.order_processing.order import Order\n",
    "\n",
    "product = Product(1, 'Sample Product', 19.99)\n",
    "order = Order(1001, product, 2)\n"
   ]
  },
  {
   "cell_type": "code",
   "execution_count": 11,
   "id": "08c2e228-3e60-4c7c-8d08-6392d33b4ca4",
   "metadata": {},
   "outputs": [
    {
     "name": "stdout",
     "output_type": "stream",
     "text": [
      "Requirement already satisfied: pytest in c:\\users\\pari & duggi\\appdata\\local\\programs\\python\\python312\\lib\\site-packages (8.3.2)\n",
      "Requirement already satisfied: iniconfig in c:\\users\\pari & duggi\\appdata\\local\\programs\\python\\python312\\lib\\site-packages (from pytest) (2.0.0)\n",
      "Requirement already satisfied: packaging in c:\\users\\pari & duggi\\appdata\\local\\programs\\python\\python312\\lib\\site-packages (from pytest) (24.1)\n",
      "Requirement already satisfied: pluggy<2,>=1.5 in c:\\users\\pari & duggi\\appdata\\local\\programs\\python\\python312\\lib\\site-packages (from pytest) (1.5.0)\n",
      "Requirement already satisfied: colorama in c:\\users\\pari & duggi\\appdata\\local\\programs\\python\\python312\\lib\\site-packages (from pytest) (0.4.6)\n"
     ]
    },
    {
     "name": "stderr",
     "output_type": "stream",
     "text": [
      "\n",
      "[notice] A new release of pip is available: 24.0 -> 24.2\n",
      "[notice] To update, run: python.exe -m pip install --upgrade pip\n"
     ]
    }
   ],
   "source": [
    "!pip install pytest\n"
   ]
  },
  {
   "cell_type": "code",
   "execution_count": 13,
   "id": "7a67fab5-b001-4d5d-a8b5-32c3c6270082",
   "metadata": {},
   "outputs": [
    {
     "name": "stdout",
     "output_type": "stream",
     "text": [
      "\u001b[1m============================= test session starts =============================\u001b[0m\n",
      "platform win32 -- Python 3.12.4, pytest-8.3.2, pluggy-1.5.0\n",
      "rootdir: C:\\Users\\PARI & DUGGI\\Desktop\\JUPYTER NOTEBOOK\n",
      "plugins: anyio-4.4.0\n",
      "collected 1 item\n",
      "\n",
      "tests\\test_product_management.py \u001b[32m.\u001b[0m\u001b[32m                                       [100%]\u001b[0m\n",
      "\n",
      "\u001b[32m============================== \u001b[32m\u001b[1m1 passed\u001b[0m\u001b[32m in 0.08s\u001b[0m\u001b[32m ==============================\u001b[0m\n"
     ]
    }
   ],
   "source": [
    "!pytest tests/test_product_management.py\n"
   ]
  },
  {
   "cell_type": "code",
   "execution_count": 14,
   "id": "3228bf4a-ebb9-48ea-972d-06e23b9cfa1c",
   "metadata": {},
   "outputs": [
    {
     "name": "stdout",
     "output_type": "stream",
     "text": [
      "\u001b[1m============================= test session starts =============================\u001b[0m\n",
      "platform win32 -- Python 3.12.4, pytest-8.3.2, pluggy-1.5.0\n",
      "rootdir: C:\\Users\\PARI & DUGGI\\Desktop\\JUPYTER NOTEBOOK\n",
      "plugins: anyio-4.4.0\n",
      "collected 1 item\n",
      "\n",
      "tests\\test_order_processing.py \u001b[32m.\u001b[0m\u001b[32m                                         [100%]\u001b[0m\n",
      "\n",
      "\u001b[32m============================== \u001b[32m\u001b[1m1 passed\u001b[0m\u001b[32m in 0.07s\u001b[0m\u001b[32m ==============================\u001b[0m\n"
     ]
    }
   ],
   "source": [
    "!pytest tests/test_order_processing.py\n"
   ]
  },
  {
   "cell_type": "code",
   "execution_count": 15,
   "id": "643cb08e-c39e-4705-a935-c90fb2da1244",
   "metadata": {},
   "outputs": [
    {
     "name": "stdout",
     "output_type": "stream",
     "text": [
      "\u001b[1m============================= test session starts =============================\u001b[0m\n",
      "platform win32 -- Python 3.12.4, pytest-8.3.2, pluggy-1.5.0\n",
      "rootdir: C:\\Users\\PARI & DUGGI\\Desktop\\JUPYTER NOTEBOOK\n",
      "plugins: anyio-4.4.0\n",
      "collected 2 items\n",
      "\n",
      "tests\\test_order_processing.py \u001b[32m.\u001b[0m\u001b[32m                                         [ 50%]\u001b[0m\n",
      "tests\\test_product_management.py \u001b[32m.\u001b[0m\u001b[32m                                       [100%]\u001b[0m\n",
      "\n",
      "\u001b[32m============================== \u001b[32m\u001b[1m2 passed\u001b[0m\u001b[32m in 0.03s\u001b[0m\u001b[32m ==============================\u001b[0m\n"
     ]
    }
   ],
   "source": [
    "!pytest tests\n"
   ]
  },
  {
   "cell_type": "code",
   "execution_count": null,
   "id": "fb9bc1b8-8998-4d31-b5cb-8663f4b2db1f",
   "metadata": {},
   "outputs": [],
   "source": []
  }
 ],
 "metadata": {
  "kernelspec": {
   "display_name": "Python 3 (ipykernel)",
   "language": "python",
   "name": "python3"
  },
  "language_info": {
   "codemirror_mode": {
    "name": "ipython",
    "version": 3
   },
   "file_extension": ".py",
   "mimetype": "text/x-python",
   "name": "python",
   "nbconvert_exporter": "python",
   "pygments_lexer": "ipython3",
   "version": "3.12.4"
  }
 },
 "nbformat": 4,
 "nbformat_minor": 5
}
